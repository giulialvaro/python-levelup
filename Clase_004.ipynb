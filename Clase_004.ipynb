{
  "nbformat": 4,
  "nbformat_minor": 0,
  "metadata": {
    "colab": {
      "provenance": [],
      "authorship_tag": "ABX9TyPeXXkuMJIvRtbM5ybjv/8b",
      "include_colab_link": true
    },
    "kernelspec": {
      "name": "python3",
      "display_name": "Python 3"
    },
    "language_info": {
      "name": "python"
    }
  },
  "cells": [
    {
      "cell_type": "markdown",
      "metadata": {
        "id": "view-in-github",
        "colab_type": "text"
      },
      "source": [
        "<a href=\"https://colab.research.google.com/github/giulialvaro/python-levelup/blob/main/Clase_004.ipynb\" target=\"_parent\"><img src=\"https://colab.research.google.com/assets/colab-badge.svg\" alt=\"Open In Colab\"/></a>"
      ]
    },
    {
      "cell_type": "markdown",
      "source": [
        "#Apuntes de clase"
      ],
      "metadata": {
        "id": "Rv_KaMJQ8MBi"
      }
    },
    {
      "cell_type": "markdown",
      "source": [
        "Excepciones"
      ],
      "metadata": {
        "id": "FQFHDNzD8Qna"
      }
    },
    {
      "cell_type": "code",
      "source": [
        "def funcion (a,b)):\n",
        "  try:\n",
        "    resutado = a//b\n",
        "    print(resultado)\n",
        "    return resultado\n",
        "  except:  #Cualquier error\n",
        "    print(\"No se puede dividir por cero\")"
      ],
      "metadata": {
        "id": "q5XVTqup8Ssi"
      },
      "execution_count": null,
      "outputs": []
    },
    {
      "cell_type": "markdown",
      "source": [
        "Le sumamos else y finally"
      ],
      "metadata": {
        "id": "TLvuZ5mA9HTE"
      }
    },
    {
      "cell_type": "code",
      "source": [
        "valores = [4,5,6]\n",
        "def f(indice):\n",
        "  try:\n",
        "    resultado = valores [indice]\n",
        "    return resultado\n",
        "  except IndexError:\n",
        "    print(f\"Ingrese un valor entre 0 y {len(valores)-1}\")"
      ],
      "metadata": {
        "id": "Y_m7BNFU9JZN"
      },
      "execution_count": null,
      "outputs": []
    },
    {
      "cell_type": "code",
      "source": [
        "f(2)"
      ],
      "metadata": {
        "id": "RvvjL2KN9fY7",
        "outputId": "c980c25f-c41e-4452-dbab-0fa4f3b01194",
        "colab": {
          "base_uri": "https://localhost:8080/"
        }
      },
      "execution_count": null,
      "outputs": [
        {
          "output_type": "execute_result",
          "data": {
            "text/plain": [
              "6"
            ]
          },
          "metadata": {},
          "execution_count": 3
        }
      ]
    },
    {
      "cell_type": "markdown",
      "source": [
        "# New Section"
      ],
      "metadata": {
        "id": "m6EO40Ud8Nhh"
      }
    },
    {
      "cell_type": "markdown",
      "source": [
        "# New Section"
      ],
      "metadata": {
        "id": "mEuN-Emv8NkB"
      }
    },
    {
      "cell_type": "markdown",
      "source": [
        "# New Section"
      ],
      "metadata": {
        "id": "tMrPo1KW8MDh"
      }
    },
    {
      "cell_type": "markdown",
      "source": [
        "# New Section"
      ],
      "metadata": {
        "id": "CRSBiSv48MFr"
      }
    },
    {
      "cell_type": "markdown",
      "source": [
        "# New Section"
      ],
      "metadata": {
        "id": "ew__3Ou68MHu"
      }
    }
  ]
}