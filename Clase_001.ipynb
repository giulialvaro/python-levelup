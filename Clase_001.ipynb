{
  "nbformat": 4,
  "nbformat_minor": 0,
  "metadata": {
    "colab": {
      "provenance": [],
      "authorship_tag": "ABX9TyMaFlkG3CJbMu6H1lskQKXD",
      "include_colab_link": true
    },
    "kernelspec": {
      "name": "python3",
      "display_name": "Python 3"
    },
    "language_info": {
      "name": "python"
    }
  },
  "cells": [
    {
      "cell_type": "markdown",
      "metadata": {
        "id": "view-in-github",
        "colab_type": "text"
      },
      "source": [
        "<a href=\"https://colab.research.google.com/github/giulialvaro/python-levelup/blob/main/Clase_001.ipynb\" target=\"_parent\"><img src=\"https://colab.research.google.com/assets/colab-badge.svg\" alt=\"Open In Colab\"/></a>"
      ]
    },
    {
      "cell_type": "markdown",
      "source": [
        "# Comentarios\n"
      ],
      "metadata": {
        "id": "pvRLw9N1RmLZ"
      }
    },
    {
      "cell_type": "code",
      "source": [
        "# Comentario basico\n",
        "\"\"\" Comentario\n",
        "multilinea\"\"\"\n",
        "'Comentario con un \"comentario\" adentro'"
      ],
      "metadata": {
        "colab": {
          "base_uri": "https://localhost:8080/",
          "height": 35
        },
        "id": "yRuefq6eRrXh",
        "outputId": "0475f76b-af54-40b4-955c-8814c3b6fa74"
      },
      "execution_count": null,
      "outputs": [
        {
          "output_type": "execute_result",
          "data": {
            "text/plain": [
              "'Comentario con un \"comentario\" adentro'"
            ],
            "application/vnd.google.colaboratory.intrinsic+json": {
              "type": "string"
            }
          },
          "metadata": {},
          "execution_count": 2
        }
      ]
    },
    {
      "cell_type": "markdown",
      "source": [
        "# Función print()\n"
      ],
      "metadata": {
        "id": "0jAK9HTpTkJY"
      }
    },
    {
      "cell_type": "code",
      "source": [
        "# Función Print()\n",
        "print(\"Hola mundo\") #str va con \"\"\n",
        "print(1,2,3) #numeros separados por coma\n",
        "print(3.14) #floats con punto\n"
      ],
      "metadata": {
        "colab": {
          "base_uri": "https://localhost:8080/"
        },
        "id": "evzNHYR_R1CT",
        "outputId": "0681703f-3c0f-4950-aa7e-341deb3e8a89"
      },
      "execution_count": null,
      "outputs": [
        {
          "output_type": "stream",
          "name": "stdout",
          "text": [
            "Hola mundo\n",
            "1 2 3\n",
            "3.14\n"
          ]
        }
      ]
    },
    {
      "cell_type": "code",
      "source": [
        "#Con saltos de linea\n",
        "print(1)\n",
        "print(2)\n",
        "print(3)\n"
      ],
      "metadata": {
        "colab": {
          "base_uri": "https://localhost:8080/"
        },
        "id": "d2o2MLiMSFaU",
        "outputId": "39148c1a-9f32-4876-a98b-c7ac911afbe1"
      },
      "execution_count": null,
      "outputs": [
        {
          "output_type": "stream",
          "name": "stdout",
          "text": [
            "1\n",
            "2\n",
            "3\n"
          ]
        }
      ]
    },
    {
      "cell_type": "code",
      "source": [
        "#especificar el final\n",
        "print(1,end=\",\")\n",
        "print(2,end=\",\")\n",
        "print(3)"
      ],
      "metadata": {
        "colab": {
          "base_uri": "https://localhost:8080/"
        },
        "id": "6WoQz26LSLRe",
        "outputId": "2d28328d-2b56-4812-808d-50681a24c114"
      },
      "execution_count": null,
      "outputs": [
        {
          "output_type": "stream",
          "name": "stdout",
          "text": [
            "1,2,3\n"
          ]
        }
      ]
    },
    {
      "cell_type": "code",
      "source": [
        "#especificar separador\n",
        "print(1,2,3,sep=\"-\")\n",
        "print(1,2,3,sep=\"-\",end=\":\")\n"
      ],
      "metadata": {
        "colab": {
          "base_uri": "https://localhost:8080/"
        },
        "id": "BClPwMWnSXs_",
        "outputId": "1a12ac71-e36d-44ec-d6df-97b499404915"
      },
      "execution_count": null,
      "outputs": [
        {
          "output_type": "stream",
          "name": "stdout",
          "text": [
            "1-2-3\n",
            "1-2-3:"
          ]
        }
      ]
    },
    {
      "cell_type": "code",
      "source": [
        "#imprimir variables\n",
        "#metodo format\n",
        "print(\"Mis valores son {}, {}, {}\".format(1,2.25,True)) #.format reemplaza los {} por los valores q le de\n"
      ],
      "metadata": {
        "colab": {
          "base_uri": "https://localhost:8080/"
        },
        "id": "bbYNcEUcSfsh",
        "outputId": "a3d6ce83-0114-40f8-8e08-e78738738509"
      },
      "execution_count": null,
      "outputs": [
        {
          "output_type": "stream",
          "name": "stdout",
          "text": [
            "Mis valores son 1, 2.25, True\n"
          ]
        }
      ]
    },
    {
      "cell_type": "code",
      "source": [
        "#metodo f-string\n",
        "a = 1\n",
        "b = 2\n",
        "c = \"Giuliana\"\n",
        "print(f\"Mis valores son {a}, {b} y {c}\") #La f especifica q los {} son funciones"
      ],
      "metadata": {
        "colab": {
          "base_uri": "https://localhost:8080/"
        },
        "id": "ARAUKmHBTCg-",
        "outputId": "f16c7b90-f96f-4ae9-cfac-71eda0714396"
      },
      "execution_count": null,
      "outputs": [
        {
          "output_type": "stream",
          "name": "stdout",
          "text": [
            "Mis valores son 1, 2 y Giuliana\n"
          ]
        }
      ]
    },
    {
      "cell_type": "code",
      "source": [],
      "metadata": {
        "id": "b2iRJMKdTY4t"
      },
      "execution_count": null,
      "outputs": []
    },
    {
      "cell_type": "markdown",
      "source": [
        "# Variables\n"
      ],
      "metadata": {
        "id": "m-wXtmFoTr7S"
      }
    },
    {
      "cell_type": "markdown",
      "source": [
        "Las variables son contenedores de memoria que hacen referencia a un objeto:\n",
        "\n",
        "* int\n",
        "* string\n",
        "* bool\n",
        "* date\n",
        "\n",
        "En Python las toda entidad (representación de la realidad) es un objeto con atributos y metodos (acciones)\n",
        "\n",
        "Para definiri una variable:\n",
        "* solo mayus, minus, digitos, guion bajo\n",
        "* case sensitive\n",
        "* no usar keywords\n",
        "* convención: snake_case (hay otras como camelCase y PascalCase)\n"
      ],
      "metadata": {
        "id": "ozSorDfrTxMO"
      }
    },
    {
      "cell_type": "code",
      "source": [
        "mi_variable_int = 2\n",
        "mi_variable_float = 2.25\n",
        "mi_variable_bool = True\n",
        "mi_variable_str = \"Hola\"\n",
        "\n",
        "print(mi_variable_int)\n",
        "print(mi_variable_float)\n",
        "print(mi_variable_bool)\n",
        "print(mi_variable_str)"
      ],
      "metadata": {
        "colab": {
          "base_uri": "https://localhost:8080/"
        },
        "id": "NkJDnWERUd9y",
        "outputId": "8d73be5c-32e8-4ae3-e867-557ef385d8a4"
      },
      "execution_count": null,
      "outputs": [
        {
          "output_type": "stream",
          "name": "stdout",
          "text": [
            "2\n",
            "2.25\n",
            "True\n",
            "Hola\n"
          ]
        }
      ]
    },
    {
      "cell_type": "markdown",
      "source": [
        "**Asignación y definición**\n",
        "\n",
        "`Definir`: es por primera vez\n",
        "\n",
        "`Asignar`: se va dando a media que se actualiza el valor de la variable\n"
      ],
      "metadata": {
        "id": "PC6SsaXGUvml"
      }
    },
    {
      "cell_type": "code",
      "source": [
        "#Asignación simple\n",
        "mi_variable_int = 2\n",
        "print(mi_variable_int)"
      ],
      "metadata": {
        "colab": {
          "base_uri": "https://localhost:8080/"
        },
        "id": "QPdfh56fUmQB",
        "outputId": "a00de83f-7f69-4c9b-8898-2ae4a4b2ec3b"
      },
      "execution_count": null,
      "outputs": [
        {
          "output_type": "stream",
          "name": "stdout",
          "text": [
            "2\n"
          ]
        }
      ]
    },
    {
      "cell_type": "code",
      "source": [
        "#Asignación aumentada\n",
        "\"suma\"\n",
        "a = 2\n",
        "a += 1 #asignación aumentada en 1\n",
        "print(mi_variable_int)\n",
        "\n",
        "\"multiplicación\"\n",
        "b = 12\n",
        "b *= 2 #asignación multiplicada en 2\n",
        "print(b)\n",
        "\n",
        "\"división\"\n",
        "c = 5\n",
        "c /= 2\n",
        "print(c)"
      ],
      "metadata": {
        "colab": {
          "base_uri": "https://localhost:8080/"
        },
        "id": "aAxW_6FEVYJs",
        "outputId": "a8208389-93bb-40fc-8ab3-cc5fa6400dc6"
      },
      "execution_count": null,
      "outputs": [
        {
          "output_type": "stream",
          "name": "stdout",
          "text": [
            "3\n",
            "24\n",
            "2.5\n"
          ]
        }
      ]
    },
    {
      "cell_type": "code",
      "source": [
        "#Asignación múltiple\n",
        "a = b = c = 3\n",
        "print(a,b,c)\n"
      ],
      "metadata": {
        "colab": {
          "base_uri": "https://localhost:8080/"
        },
        "id": "s1PxCREwVmyR",
        "outputId": "57764032-e6be-42a3-d2d1-2d9370878baf"
      },
      "execution_count": null,
      "outputs": [
        {
          "output_type": "stream",
          "name": "stdout",
          "text": [
            "3 3 3\n"
          ]
        }
      ]
    },
    {
      "cell_type": "markdown",
      "source": [
        "# Constantes\n"
      ],
      "metadata": {
        "id": "Z6YNFPnUWVjr"
      }
    },
    {
      "cell_type": "markdown",
      "source": [
        "Las constantes se declaran en mayúscula"
      ],
      "metadata": {
        "id": "DAKQzzcmWkxp"
      }
    },
    {
      "cell_type": "code",
      "source": [
        "VELOCIDAD_LUZ = 300_000\n",
        "PRESIÓN_ATM = 1.01325\n",
        "PI = 3.1416\n",
        "print(VELOCIDAD_LUZ)\n",
        "print(PRESIÓN_ATM)\n",
        "print(PI)"
      ],
      "metadata": {
        "colab": {
          "base_uri": "https://localhost:8080/"
        },
        "id": "tCetBrxaWQin",
        "outputId": "a55d6dd7-1832-4ba6-e2da-dccedd7ba752"
      },
      "execution_count": null,
      "outputs": [
        {
          "output_type": "stream",
          "name": "stdout",
          "text": [
            "300000\n",
            "1.01325\n",
            "3.1416\n"
          ]
        }
      ]
    },
    {
      "cell_type": "code",
      "source": [
        "help(\"keywords\")"
      ],
      "metadata": {
        "colab": {
          "base_uri": "https://localhost:8080/"
        },
        "id": "Y0WVc8YgW118",
        "outputId": "90762343-b31a-474d-f7d8-5433cd7f4a6f"
      },
      "execution_count": null,
      "outputs": [
        {
          "output_type": "stream",
          "name": "stdout",
          "text": [
            "\n",
            "Here is a list of the Python keywords.  Enter any keyword to get more help.\n",
            "\n",
            "False               class               from                or\n",
            "None                continue            global              pass\n",
            "True                def                 if                  raise\n",
            "and                 del                 import              return\n",
            "as                  elif                in                  try\n",
            "assert              else                is                  while\n",
            "async               except              lambda              with\n",
            "await               finally             nonlocal            yield\n",
            "break               for                 not                 \n",
            "\n"
          ]
        }
      ]
    },
    {
      "cell_type": "code",
      "source": [],
      "metadata": {
        "id": "ACKEk4p1W6VX"
      },
      "execution_count": null,
      "outputs": []
    },
    {
      "cell_type": "markdown",
      "source": [
        "**bold text**#📝 Ejercicios"
      ],
      "metadata": {
        "id": "JFqdYVkOW_Jb"
      }
    },
    {
      "cell_type": "markdown",
      "source": [
        "👉 **Parte 1: Ejercicio de clase**\n",
        "\n",
        "- Definir 3 variables (`producto1`, `producto2`, `producto3`) que representen los distintos productos o SKU de un ecommerce y los precios de los mismos (`precio1`, `precio2`, `precio3`)\n",
        "\n",
        "- Imprimir en pantalla un mensaje con un texto que indique la promoción/oferta del produtco3 ante la compra del 1 y 2. Utilice notación `f-string`"
      ],
      "metadata": {
        "id": "kKqSZFGwXSjY"
      }
    },
    {
      "cell_type": "code",
      "source": [
        "producto_1 = \"Remera\"\n",
        "producto_2 = \"Bermuda\"\n",
        "producto_3 = \"Buzo\"\n",
        "precio_1 = 150\n",
        "precio_2 = 100\n",
        "precio_3 = 200\n",
        "\n",
        "print(f\"Comparando una {producto_1} de ${precio_1} y una {producto_2} de ${precio_2}, obtenés un {producto_3} de regalo\",)"
      ],
      "metadata": {
        "id": "ZyTSeRHsXV2J",
        "colab": {
          "base_uri": "https://localhost:8080/"
        },
        "outputId": "e20830e9-c895-40d2-c668-1af209368701"
      },
      "execution_count": null,
      "outputs": [
        {
          "output_type": "stream",
          "name": "stdout",
          "text": [
            "Comparando una Remera de $150 y una Bermuda de $100, obtenés un Buzo de regalo\n"
          ]
        }
      ]
    },
    {
      "cell_type": "markdown",
      "source": [
        "🫴🏻 Parte 1: Ejercio tarea 1\n",
        "\n",
        "Define una variable a numérica igual a 5 y una b que sea float igual a 1.61 (número Aureo).\n",
        "Aumenta en 3 el valor de a asignación aumentada.\n",
        "Potencia en 2 el valor de b.\n",
        "Imprimir el resultado final de a en pantalla y compartirlo con la comunidad."
      ],
      "metadata": {
        "id": "hEzNMmhzyTvm"
      }
    },
    {
      "cell_type": "code",
      "source": [
        "a = 5\n",
        "b = 1.61\n",
        "a +=3\n",
        "b **=2 #multiplicar es * y potencia es **\n",
        "\n",
        "print({a},{b})"
      ],
      "metadata": {
        "colab": {
          "base_uri": "https://localhost:8080/"
        },
        "id": "5ej2BItcyGa2",
        "outputId": "67609bbe-90d3-4bb0-9345-cde9efd4d3de"
      },
      "execution_count": null,
      "outputs": [
        {
          "output_type": "stream",
          "name": "stdout",
          "text": [
            "{8} {3.22}\n"
          ]
        }
      ]
    },
    {
      "cell_type": "markdown",
      "source": [
        "🫴🏻 **Parte 1: Ejercicio de tarea 2**\n",
        "\n",
        "- Define una constante llamada `GRAVEDAD`\n",
        "- Define una variable `b` y asígnale el valor de la constante `GRAVEDAD`.\n",
        "- Imprimir el valor de `b` en pantalla\n",
        "\n"
      ],
      "metadata": {
        "id": "UCs0tglNytJn"
      }
    },
    {
      "cell_type": "code",
      "source": [
        "GRAVEDAD = 9.81\n",
        "b = GRAVEDAD\n",
        "print(b)"
      ],
      "metadata": {
        "colab": {
          "base_uri": "https://localhost:8080/"
        },
        "id": "qsi5D9X2ywJ3",
        "outputId": "01cd1b96-5791-4e88-b3ed-0e011b8e5f30"
      },
      "execution_count": null,
      "outputs": [
        {
          "output_type": "stream",
          "name": "stdout",
          "text": [
            "9.81\n"
          ]
        }
      ]
    },
    {
      "cell_type": "code",
      "source": [],
      "metadata": {
        "id": "OUG2OEsRy0Jo"
      },
      "execution_count": null,
      "outputs": []
    },
    {
      "cell_type": "markdown",
      "source": [
        "# Strings"
      ],
      "metadata": {
        "id": "knfd-LUoy8XK"
      }
    },
    {
      "cell_type": "markdown",
      "source": [
        "La función id() da un identificador único por cada ubicación de variable."
      ],
      "metadata": {
        "id": "N74S375EzLP6"
      }
    },
    {
      "cell_type": "code",
      "source": [
        "a = 1\n",
        "b = \"Hola\"\n",
        "c = False\n",
        "\n",
        "print(f\"El espacio en memoria de a es: {id(a)}\")\n",
        "print(f\"El espacio en memoria de b es: {id(b)}\")\n",
        "print(f\"El espacio en memoria de c es: {id(c)}\")\n"
      ],
      "metadata": {
        "colab": {
          "base_uri": "https://localhost:8080/"
        },
        "id": "TTh5X3J1zGGe",
        "outputId": "e2bfb4ed-1393-42a1-8e9d-e4a533f21d53"
      },
      "execution_count": null,
      "outputs": [
        {
          "output_type": "stream",
          "name": "stdout",
          "text": [
            "El espacio en memoria de a es: 138074214252784\n",
            "El espacio en memoria de b es: 138072932865072\n",
            "El espacio en memoria de c es: 101895553315840\n"
          ]
        }
      ]
    },
    {
      "cell_type": "markdown",
      "source": [
        "**Strings**\n",
        "\n",
        "Son cadenas de caracteres inmutables, existen diferentes métodos que puede ser utilizados con los strings:\n",
        "  - `capitalize()`: Convetir primer caracter en UPPER Case.\n",
        "  - `count()`: Cuenta la cantidad de ocurrencias de un strung dentro del string general.\n",
        "  - `startswith()` y `endswith()`: Retorna True si la cadena empieza o termina con un valor especificado.\n",
        "  - `len()`: Devuelve la cantidad de letras del string.\n",
        "  - `find()`: Devuelve la posición del string en caso de encontrarlo.\n",
        "\n"
      ],
      "metadata": {
        "id": "JrYTeLJBzjDw"
      }
    },
    {
      "cell_type": "code",
      "source": [
        "mi_string = \"alejito es re lindo, y lo amo mucho\""
      ],
      "metadata": {
        "id": "8PIcV-pozezJ"
      },
      "execution_count": null,
      "outputs": []
    },
    {
      "cell_type": "code",
      "source": [
        "print(mi_string.capitalize()) #primera letra mayuscula\n",
        "print(mi_string.count(\"o\")) #cuenta la cantidad de veces que hay una o\n",
        "print(mi_string.startswith(\"ale\")) #true o false\n",
        "print(mi_string.endswith(\"e\")) #true o false\n",
        "print(len(mi_string)) #cantidad de letras\n",
        "print(mi_string.find(\"a\")) #posicion del string (0 = primera posición)"
      ],
      "metadata": {
        "colab": {
          "base_uri": "https://localhost:8080/"
        },
        "id": "cixJ9s9i0P4d",
        "outputId": "b96a3089-fb5e-4d4a-c76d-501595553820"
      },
      "execution_count": null,
      "outputs": [
        {
          "output_type": "stream",
          "name": "stdout",
          "text": [
            "Alejito es re lindo, y lo amo mucho\n",
            "5\n",
            "True\n",
            "False\n",
            "35\n",
            "0\n"
          ]
        }
      ]
    },
    {
      "cell_type": "markdown",
      "source": [
        "Los string son **iterables**, es decir, que podemos acceder a sus elementos."
      ],
      "metadata": {
        "id": "ZIfz18fl0zHU"
      }
    },
    {
      "cell_type": "code",
      "source": [
        "elemento_0 = mi_string[0]\n",
        "print(elemento_0)"
      ],
      "metadata": {
        "colab": {
          "base_uri": "https://localhost:8080/"
        },
        "id": "vOOLg6pZ0dwn",
        "outputId": "12056ea1-1546-4c83-ed1b-c6c23b101bc4"
      },
      "execution_count": null,
      "outputs": [
        {
          "output_type": "stream",
          "name": "stdout",
          "text": [
            "a\n"
          ]
        }
      ]
    },
    {
      "cell_type": "markdown",
      "source": [
        "Los strings también se pueden **concatenar**"
      ],
      "metadata": {
        "id": "DczqDQRG0-Or"
      }
    },
    {
      "cell_type": "code",
      "source": [
        "string_1 = \"Hola\"\n",
        "string_2 = \"Mundo\"\n",
        "concatenados = string_1 + \" \" + string_2\n",
        "print(concatenados)"
      ],
      "metadata": {
        "colab": {
          "base_uri": "https://localhost:8080/"
        },
        "id": "27htkE_T07Kp",
        "outputId": "5ec6ac1f-76ee-4950-adbc-40de73c54bcf"
      },
      "execution_count": null,
      "outputs": [
        {
          "output_type": "stream",
          "name": "stdout",
          "text": [
            "Hola Mundo\n"
          ]
        }
      ]
    },
    {
      "cell_type": "markdown",
      "source": [
        "Los strings se pueden **convertir en listas**"
      ],
      "metadata": {
        "id": "BCkmHpz21Uda"
      }
    },
    {
      "cell_type": "code",
      "source": [
        "string_a_lista = list(concatenados)\n",
        "print(string_a_lista)\n"
      ],
      "metadata": {
        "colab": {
          "base_uri": "https://localhost:8080/"
        },
        "id": "1UUZHEjc1Qtv",
        "outputId": "ce94e7eb-de6b-4d63-d3a8-0c96251a0638"
      },
      "execution_count": null,
      "outputs": [
        {
          "output_type": "stream",
          "name": "stdout",
          "text": [
            "['H', 'o', 'l', 'a', ' ', 'M', 'u', 'n', 'd', 'o']\n"
          ]
        }
      ]
    },
    {
      "cell_type": "markdown",
      "source": [
        "Los strings son **INMUTABLES**, es decir, que no se pueden alterar."
      ],
      "metadata": {
        "id": "tbNyFzRT1jpM"
      }
    },
    {
      "cell_type": "code",
      "source": [
        "concatenados[0] = \"J\""
      ],
      "metadata": {
        "colab": {
          "base_uri": "https://localhost:8080/",
          "height": 141
        },
        "id": "JIWEJvF11fsp",
        "outputId": "40f3edbf-a256-4732-8b77-de6859b7ab63"
      },
      "execution_count": null,
      "outputs": [
        {
          "output_type": "error",
          "ename": "NameError",
          "evalue": "name 'concatenados' is not defined",
          "traceback": [
            "\u001b[0;31m---------------------------------------------------------------------------\u001b[0m",
            "\u001b[0;31mNameError\u001b[0m                                 Traceback (most recent call last)",
            "\u001b[0;32m<ipython-input-25-5d8009c90fa0>\u001b[0m in \u001b[0;36m<cell line: 1>\u001b[0;34m()\u001b[0m\n\u001b[0;32m----> 1\u001b[0;31m \u001b[0mconcatenados\u001b[0m\u001b[0;34m[\u001b[0m\u001b[0;36m0\u001b[0m\u001b[0;34m]\u001b[0m \u001b[0;34m=\u001b[0m \u001b[0;34m\"J\"\u001b[0m\u001b[0;34m\u001b[0m\u001b[0;34m\u001b[0m\u001b[0m\n\u001b[0m",
            "\u001b[0;31mNameError\u001b[0m: name 'concatenados' is not defined"
          ]
        }
      ]
    },
    {
      "cell_type": "markdown",
      "source": [
        "#Integers y Floats"
      ],
      "metadata": {
        "id": "6psS4rgg2Cbn"
      }
    },
    {
      "cell_type": "markdown",
      "source": [
        "Los int y float son inmutables, y las operaciones más comunes con los mismos son:\n",
        "\n",
        "- Suma, resta, multiplicación\n",
        "- División flotante, entera, resto\n",
        "- Potencia, raíz\n",
        "- Incremento, decremento"
      ],
      "metadata": {
        "id": "SpqXfA4i2Lhz"
      }
    },
    {
      "cell_type": "code",
      "source": [
        "#SUMA, RESTA, MULTIPLICACIÓN\n",
        "a = 5\n",
        "b = 2\n",
        "c = 3\n",
        "suma = a + b + c\n",
        "resta = a - b - c\n",
        "multiplicación = a * b * c\n",
        "\n",
        "print(suma)\n",
        "print(resta)\n",
        "print(multiplicación)"
      ],
      "metadata": {
        "colab": {
          "base_uri": "https://localhost:8080/"
        },
        "id": "ZffaJ8BF2KIa",
        "outputId": "238f8fb3-6392-4d09-a3f5-af3fcdd45355"
      },
      "execution_count": null,
      "outputs": [
        {
          "output_type": "stream",
          "name": "stdout",
          "text": [
            "10\n",
            "0\n",
            "30\n"
          ]
        }
      ]
    },
    {
      "cell_type": "code",
      "source": [
        "#DIVISIÓN ENTERA, FLOTANTE, RESTO\n",
        "division_flotante = a/b #sin coma\n",
        "division_entera = a//b #con coma\n",
        "resto = a%b #resto solamente\n",
        "\n",
        "print(division_flotante)\n",
        "print(division_entera)\n",
        "print(resto)"
      ],
      "metadata": {
        "colab": {
          "base_uri": "https://localhost:8080/"
        },
        "id": "RQ1WKEh72uxS",
        "outputId": "57e0a162-941a-476c-a773-e9fa06fc696a"
      },
      "execution_count": null,
      "outputs": [
        {
          "output_type": "stream",
          "name": "stdout",
          "text": [
            "2.5\n",
            "2\n",
            "1\n"
          ]
        }
      ]
    },
    {
      "cell_type": "code",
      "source": [
        "#POTENCIA, RAÍZ\n",
        "#para esto es necesario importar el módulo math\n",
        "\n",
        "from math import sqrt\n",
        "raíz = sqrt(a)\n",
        "potencia = a ** b\n",
        "\n",
        "print(raíz)\n",
        "print(potencia)"
      ],
      "metadata": {
        "colab": {
          "base_uri": "https://localhost:8080/"
        },
        "id": "mDPuxve93BPu",
        "outputId": "bd31e4d7-2920-43ef-fd82-a9cc24a61815"
      },
      "execution_count": null,
      "outputs": [
        {
          "output_type": "stream",
          "name": "stdout",
          "text": [
            "2.23606797749979\n",
            "25\n"
          ]
        }
      ]
    },
    {
      "cell_type": "markdown",
      "source": [
        "#Booleans"
      ],
      "metadata": {
        "id": "-azQoSTT3XDk"
      }
    },
    {
      "cell_type": "markdown",
      "source": [
        "Los bool son inmutables y suelen utilizarse las siguiente operaciones:\n",
        "- Comparación\n",
        "- Negación\n",
        "- Conjunción\n",
        "- Disyunción\n",
        "- Casteo a int"
      ],
      "metadata": {
        "id": "7I9uy1MH3b_X"
      }
    },
    {
      "cell_type": "code",
      "source": [
        "#COMPARACIÓN\n",
        "print(10 == 8) #igual a\n",
        "print(10 > 5) #mayor que\n",
        "print(10 < 5) #menor que\n",
        "print(10 != 5) #diferente que\n"
      ],
      "metadata": {
        "colab": {
          "base_uri": "https://localhost:8080/"
        },
        "id": "4j2qQB9G3awk",
        "outputId": "f5b91620-4917-4a50-c50d-ee5b5c28b9ec"
      },
      "execution_count": null,
      "outputs": [
        {
          "output_type": "stream",
          "name": "stdout",
          "text": [
            "False\n",
            "True\n",
            "False\n",
            "True\n"
          ]
        }
      ]
    },
    {
      "cell_type": "code",
      "source": [
        "#NEGACIÓN\n",
        "x = True\n",
        "y = False\n",
        "print(not x) #lo que no es X\n",
        "print(not y) #lo que no es y"
      ],
      "metadata": {
        "colab": {
          "base_uri": "https://localhost:8080/"
        },
        "id": "aVB_p7r-31yd",
        "outputId": "b6a9a47b-4684-43df-e660-225905baefc7"
      },
      "execution_count": null,
      "outputs": [
        {
          "output_type": "stream",
          "name": "stdout",
          "text": [
            "False\n",
            "True\n"
          ]
        }
      ]
    },
    {
      "cell_type": "code",
      "source": [
        "#DISYUNCIÓN\n",
        "x = True\n",
        "y = False\n",
        "print(x or y)"
      ],
      "metadata": {
        "colab": {
          "base_uri": "https://localhost:8080/"
        },
        "id": "V_ldTSK_4GBX",
        "outputId": "e9f376df-0e33-43e7-ccc7-576b4adbf7b9"
      },
      "execution_count": null,
      "outputs": [
        {
          "output_type": "stream",
          "name": "stdout",
          "text": [
            "True\n"
          ]
        }
      ]
    },
    {
      "cell_type": "markdown",
      "source": [
        "#Date"
      ],
      "metadata": {
        "id": "LgLeDcRv4rqK"
      }
    },
    {
      "cell_type": "markdown",
      "source": [
        "- Día, mes año\n",
        "- Día de la semana\n",
        "- Comparar fechas\n",
        "- Sumar y restar días\n",
        "- Formatear como string\n",
        "\n",
        "Hay que importar el móduclo `datetime`"
      ],
      "metadata": {
        "id": "gCm_igoZ4yOs"
      }
    },
    {
      "cell_type": "code",
      "source": [
        "from datetime import date, timedelta"
      ],
      "metadata": {
        "id": "N-3vc3GZ4un9"
      },
      "execution_count": null,
      "outputs": []
    },
    {
      "cell_type": "code",
      "source": [
        "#DEFINICIÓN\n",
        "fecha = date(2024, 5, 1) #AÑO, MES, DÍA"
      ],
      "metadata": {
        "id": "VO1Jbqe75B5n"
      },
      "execution_count": null,
      "outputs": []
    },
    {
      "cell_type": "code",
      "source": [
        "#OBTENER DÍA, MES Y AÑO\n",
        "dia = fecha.day\n",
        "mes = fecha.month\n",
        "año = fecha.year\n",
        "print(dia, mes, año)"
      ],
      "metadata": {
        "colab": {
          "base_uri": "https://localhost:8080/"
        },
        "id": "3393lqMV5PtK",
        "outputId": "50df201c-7fef-4b11-f3ea-b6dfd3e61dda"
      },
      "execution_count": null,
      "outputs": [
        {
          "output_type": "stream",
          "name": "stdout",
          "text": [
            "1 5 2024\n"
          ]
        }
      ]
    },
    {
      "cell_type": "code",
      "source": [
        "#OBTENER DÍA DE LA SEMANA\n",
        "dia_semana = fecha.weekday() #toma al lunes como 0 (primer día)\n",
        "print(dia_semana)"
      ],
      "metadata": {
        "colab": {
          "base_uri": "https://localhost:8080/"
        },
        "id": "jmcELCz_5ayj",
        "outputId": "07d429b8-5b87-4383-9a7b-20956a3873e1"
      },
      "execution_count": null,
      "outputs": [
        {
          "output_type": "stream",
          "name": "stdout",
          "text": [
            "2\n"
          ]
        }
      ]
    },
    {
      "cell_type": "code",
      "source": [
        "#COMPARAR FEHCAS\n",
        "fecha_2 = date(2024, 5, 7)\n",
        "es_anterior = fecha > fecha_2\n",
        "print(\"La fecha 2 es anterior?\", es_anterior)"
      ],
      "metadata": {
        "colab": {
          "base_uri": "https://localhost:8080/"
        },
        "id": "Q7N-Go705n4F",
        "outputId": "e62e4033-81db-4693-9273-815960f36d40"
      },
      "execution_count": null,
      "outputs": [
        {
          "output_type": "stream",
          "name": "stdout",
          "text": [
            "La fecha 2 es anterior? False\n"
          ]
        }
      ]
    },
    {
      "cell_type": "code",
      "source": [
        "#SUMAR O RESTAR DÍAS\n",
        "fecha_3 = fecha + timedelta(days=5) #sumar 5 días\n",
        "print(fecha_3)"
      ],
      "metadata": {
        "colab": {
          "base_uri": "https://localhost:8080/"
        },
        "id": "M1ke3n8J6EQp",
        "outputId": "7f1bae56-65bd-43dc-9e45-13e210db1edd"
      },
      "execution_count": null,
      "outputs": [
        {
          "output_type": "stream",
          "name": "stdout",
          "text": [
            "2024-05-06\n"
          ]
        }
      ]
    },
    {
      "cell_type": "code",
      "source": [
        "#CALCULAR DIFERENCIA ENTRE DÍAS\n",
        "diferencia = fecha_2 - fecha\n",
        "print(diferencia)"
      ],
      "metadata": {
        "colab": {
          "base_uri": "https://localhost:8080/"
        },
        "id": "EwRe4K5q6S7e",
        "outputId": "2ea26bfe-fd22-4d9a-da29-de8bf6a53646"
      },
      "execution_count": null,
      "outputs": [
        {
          "output_type": "stream",
          "name": "stdout",
          "text": [
            "6 days, 0:00:00\n"
          ]
        }
      ]
    },
    {
      "cell_type": "code",
      "source": [
        "#FORMATERA FECHA COMO CADENA\n",
        "fecha_formateada = fecha.strftime(\"%d/%m/%Y\") #formato strftime\n",
        "print(fecha_formateada)"
      ],
      "metadata": {
        "colab": {
          "base_uri": "https://localhost:8080/"
        },
        "id": "xtWKDqK46d47",
        "outputId": "8362dfe3-f653-4da0-9fa5-57158ebd39d1"
      },
      "execution_count": null,
      "outputs": [
        {
          "output_type": "stream",
          "name": "stdout",
          "text": [
            "01/05/2024\n"
          ]
        }
      ]
    },
    {
      "cell_type": "markdown",
      "source": [
        "#Método type (). Castear una variable"
      ],
      "metadata": {
        "id": "awHiOVlO67Zq"
      }
    },
    {
      "cell_type": "markdown",
      "source": [
        "Conocer el tipo de variable"
      ],
      "metadata": {
        "id": "9y6geuV07Fr0"
      }
    },
    {
      "cell_type": "code",
      "source": [
        "variable_1 = \"Hola\"\n",
        "variable_2 = 10\n",
        "variable_3 = 10.5\n",
        "\n",
        "print(type(variable_1))\n",
        "print(type(variable_2))\n",
        "print(type(variable_3))"
      ],
      "metadata": {
        "colab": {
          "base_uri": "https://localhost:8080/"
        },
        "id": "fzTY8Ni97IPh",
        "outputId": "0bd36010-ccb7-41d8-ee61-647dc75bd141"
      },
      "execution_count": null,
      "outputs": [
        {
          "output_type": "stream",
          "name": "stdout",
          "text": [
            "<class 'str'>\n",
            "<class 'int'>\n",
            "<class 'float'>\n"
          ]
        }
      ]
    },
    {
      "cell_type": "markdown",
      "source": [
        "Cambiar el tipo de variable"
      ],
      "metadata": {
        "id": "R4swQFDq7R9E"
      }
    },
    {
      "cell_type": "code",
      "source": [
        "casteo = str(variable_2) #no modifico la var original\n",
        "print(type(variable_2))\n",
        "print(type(casteo))"
      ],
      "metadata": {
        "colab": {
          "base_uri": "https://localhost:8080/"
        },
        "id": "jVWEhPUl7OQ0",
        "outputId": "60b510d2-26de-4b3d-9082-b39639f680f2"
      },
      "execution_count": null,
      "outputs": [
        {
          "output_type": "stream",
          "name": "stdout",
          "text": [
            "<class 'int'>\n",
            "<class 'str'>\n"
          ]
        }
      ]
    },
    {
      "cell_type": "markdown",
      "source": [
        "#Funciones"
      ],
      "metadata": {
        "id": "zMET90ux7vkL"
      }
    },
    {
      "cell_type": "markdown",
      "source": [
        "  **Built-in**: son predefinidas en Python y están disponibles en cualquier momento. `print()`, `input()`, `len()`, `range()`\n",
        "\n",
        "\n",
        "  **User Defined**: son creadas por el programados para hacer tareas específicas. Se definen usando `def`"
      ],
      "metadata": {
        "id": "GsAkzeHTa6yP"
      }
    },
    {
      "cell_type": "code",
      "source": [
        "def suma(a, b): #esta funcion recibe DOS valores int o float\n",
        "  return a + b\n",
        "\n",
        "resultado = suma(3, 6)\n",
        "print(resultado)"
      ],
      "metadata": {
        "id": "d5VA6HFE7zXr",
        "colab": {
          "base_uri": "https://localhost:8080/"
        },
        "outputId": "0dd74fd9-d92a-4e18-e0ea-2707b8db7769"
      },
      "execution_count": null,
      "outputs": [
        {
          "output_type": "stream",
          "name": "stdout",
          "text": [
            "9\n"
          ]
        }
      ]
    },
    {
      "cell_type": "markdown",
      "source": [
        "**Función `input()`**\n",
        "\n",
        "Función integrada que se usa para solicitar al usuario que ingrese datos desde el teclado y devuelve la entrada del usuario como un `string`."
      ],
      "metadata": {
        "id": "oT2LtHx2b2e3"
      }
    },
    {
      "cell_type": "code",
      "source": [
        "#EJEMPLO\n",
        "\n",
        "nombre = input(\"Ingrese su nombre: \")\n",
        "apellido = input(\"Ingrese su apellido: \")\n",
        "\n",
        "#CONCATENAR NOMBRE Y APELLID0\n",
        "print(\"Hola, \" + nombre + \" \" + apellido) #opción 1\n",
        "\n",
        "mensaje = f\"Hola, {nombre} {apellido}\" #opción 2\n",
        "print(mensaje)\n"
      ],
      "metadata": {
        "colab": {
          "base_uri": "https://localhost:8080/"
        },
        "id": "WDfsMsZXbpio",
        "outputId": "34717ac1-2e13-4891-88d9-83b8008fa569"
      },
      "execution_count": null,
      "outputs": [
        {
          "output_type": "stream",
          "name": "stdout",
          "text": [
            "Ingrese su nombre: Alejito\n",
            "Ingrese su apellido: Pequeñito\n",
            "Hola, Alejito Pequeñito\n",
            "Hola, Alejito Pequeñito\n"
          ]
        }
      ]
    },
    {
      "cell_type": "markdown",
      "source": [
        "**Documentación**\n",
        "\n",
        "Obtenemos la documentación de la función con el módulo `help()`"
      ],
      "metadata": {
        "id": "_4LMN20Lc4-j"
      }
    },
    {
      "cell_type": "code",
      "source": [
        "help(print)"
      ],
      "metadata": {
        "colab": {
          "base_uri": "https://localhost:8080/"
        },
        "id": "WkY6JGmscTSW",
        "outputId": "485afdcb-82f4-42f1-bf19-822fbbffa1f1"
      },
      "execution_count": null,
      "outputs": [
        {
          "output_type": "stream",
          "name": "stdout",
          "text": [
            "Help on built-in function print in module builtins:\n",
            "\n",
            "print(...)\n",
            "    print(value, ..., sep=' ', end='\\n', file=sys.stdout, flush=False)\n",
            "    \n",
            "    Prints the values to a stream, or to sys.stdout by default.\n",
            "    Optional keyword arguments:\n",
            "    file:  a file-like object (stream); defaults to the current sys.stdout.\n",
            "    sep:   string inserted between values, default a space.\n",
            "    end:   string appended after the last value, default a newline.\n",
            "    flush: whether to forcibly flush the stream.\n",
            "\n"
          ]
        }
      ]
    },
    {
      "cell_type": "markdown",
      "source": [
        "También se puede ver con el método `__doc__`"
      ],
      "metadata": {
        "id": "tW9B2uC6dD6y"
      }
    },
    {
      "cell_type": "code",
      "source": [
        "print(print.__doc__)"
      ],
      "metadata": {
        "colab": {
          "base_uri": "https://localhost:8080/"
        },
        "id": "KDZfCVAadBiu",
        "outputId": "f2a7009c-3dc6-4f42-c4a5-0f8cfcfb3d76"
      },
      "execution_count": null,
      "outputs": [
        {
          "output_type": "stream",
          "name": "stdout",
          "text": [
            "print(value, ..., sep=' ', end='\\n', file=sys.stdout, flush=False)\n",
            "\n",
            "Prints the values to a stream, or to sys.stdout by default.\n",
            "Optional keyword arguments:\n",
            "file:  a file-like object (stream); defaults to the current sys.stdout.\n",
            "sep:   string inserted between values, default a space.\n",
            "end:   string appended after the last value, default a newline.\n",
            "flush: whether to forcibly flush the stream.\n"
          ]
        }
      ]
    },
    {
      "cell_type": "markdown",
      "source": [
        "# 📝 Ejercicios 2"
      ],
      "metadata": {
        "id": "qiq9M0codMD3"
      }
    },
    {
      "cell_type": "markdown",
      "source": [
        "👉 Parte 2 - Ejercicio de clase:\n",
        "\n",
        "- Define una función llamada `calcular_promedio` que tome tres parámetros (notas) y devuelva el promedio de esos valores.\n",
        "- Define tres variables `nota1`, `nota2` y `nota3`, y asígnales valores numéricos.\n",
        "Llama a la función `calcular_promedio` con las tres variables `nota1`, `nota2` y `nota3` como argumentos y almacena el resultado en una nueva variable llamada promedio.\n",
        "- Imprime el valor del promedio calculado."
      ],
      "metadata": {
        "id": "UegkoG0MdRPp"
      }
    },
    {
      "cell_type": "code",
      "source": [
        "#Definir la función\n",
        "def calcular_promedio(a, b, c):\n",
        "  return (a + b + c) / 3\n",
        "\n",
        "#Definir variables\n",
        "nota1 = input(\"Ingrese la nota 1: \")\n",
        "nota2 = input(\"Ingrese la nota 2: \")\n",
        "nota3 = input(\"Ingrese la nota 3: \")\n",
        "\n",
        "promedio = calcular_promedio(int(nota1), int(nota2), int(nota3))\n",
        "print(promedio)\n"
      ],
      "metadata": {
        "colab": {
          "base_uri": "https://localhost:8080/"
        },
        "id": "XtShrarldQwG",
        "outputId": "de013397-bcc1-4cf0-b974-2fd1d288a279"
      },
      "execution_count": null,
      "outputs": [
        {
          "output_type": "stream",
          "name": "stdout",
          "text": [
            "Ingrese la nota 1: 10\n",
            "Ingrese la nota 2: 4\n",
            "Ingrese la nota 3: 6\n",
            "6.666666666666667\n"
          ]
        }
      ]
    },
    {
      "cell_type": "markdown",
      "source": [
        "Parte 2 - Ejercicio de tarea 1:\n",
        "\n",
        "- Define una función llamada `mostrar_id` que tome un argumento variable.\n",
        "Dentro de la función, imprime el ID de la variable utilizando la función `id()`.\n",
        "- Llama a la función con diferentes tipos de variables (al menos 3) y mostrar cómo cambian sus IDs. ¿Está bien que no coincidan?"
      ],
      "metadata": {
        "id": "Fo_Ld95mlQcS"
      }
    },
    {
      "cell_type": "code",
      "source": [
        "def mostrar_id(variable):\n",
        "  print(\"El ID de la variable es: \", id(variable))\n",
        "\n",
        "mostrar_id(5)\n",
        "mostrar_id(\"Hola\")\n",
        "mostrar_id([1, 2, 3])"
      ],
      "metadata": {
        "colab": {
          "base_uri": "https://localhost:8080/"
        },
        "id": "JnF-E65qdiwo",
        "outputId": "b96f4c24-b252-4d83-9627-1c507e7469a7"
      },
      "execution_count": null,
      "outputs": [
        {
          "output_type": "stream",
          "name": "stdout",
          "text": [
            "El ID de la variable es:  134043109671280\n",
            "El ID de la variable es:  134041828791664\n",
            "El ID de la variable es:  134041828419904\n"
          ]
        }
      ]
    },
    {
      "cell_type": "markdown",
      "source": [
        "#Condicionales"
      ],
      "metadata": {
        "id": "05w4ldsgvEkg"
      }
    },
    {
      "cell_type": "markdown",
      "source": [
        "Condicional Simple"
      ],
      "metadata": {
        "id": "BPi43Tq7vJsC"
      }
    },
    {
      "cell_type": "code",
      "source": [
        "a = 1\n",
        "b = 10\n",
        "\n",
        "if a > b:\n",
        "  print(a,\" es mayor a \", b)\n",
        "else:\n",
        "  print(b,\" es mayor a \", a)"
      ],
      "metadata": {
        "colab": {
          "base_uri": "https://localhost:8080/"
        },
        "id": "Id2VzSb_vLl3",
        "outputId": "75aafb78-35cc-4043-df7c-001cf8e50c28"
      },
      "execution_count": null,
      "outputs": [
        {
          "output_type": "stream",
          "name": "stdout",
          "text": [
            "10  es mayor a  1\n"
          ]
        }
      ]
    },
    {
      "cell_type": "markdown",
      "source": [
        "Condicional Anidado\n"
      ],
      "metadata": {
        "id": "0TIlytzwvX2r"
      }
    },
    {
      "cell_type": "code",
      "source": [
        "a = 1\n",
        "b = 2\n",
        "\n",
        "if (a ==1 or b == 2 or a < b):\n",
        "  print(\"Condiconales anidados\")"
      ],
      "metadata": {
        "colab": {
          "base_uri": "https://localhost:8080/"
        },
        "id": "dsc59bExvTg-",
        "outputId": "a04fe58e-fe25-45e5-8ffd-dd50fb4b0718"
      },
      "execution_count": null,
      "outputs": [
        {
          "output_type": "stream",
          "name": "stdout",
          "text": [
            "Condiconales anidados\n"
          ]
        }
      ]
    },
    {
      "cell_type": "markdown",
      "source": [
        "Varias condiciones. Uso de `elif()`"
      ],
      "metadata": {
        "id": "_EPnGJJBvlsp"
      }
    },
    {
      "cell_type": "code",
      "source": [
        "if a + b == 3:\n",
        "  print(\"a + b es igual a 3\")\n",
        "elif a + b == 4:\n",
        "  print(\"a + b es igual a 4\")\n",
        "elif a + b == 5:\n",
        "  print(\"a + b es igual a 5\")\n",
        "else:\n",
        "  print(\"condicions no contemplada\")"
      ],
      "metadata": {
        "colab": {
          "base_uri": "https://localhost:8080/"
        },
        "id": "tDZhrADBvjFr",
        "outputId": "376509da-be56-496f-bb80-f4afc3960c09"
      },
      "execution_count": null,
      "outputs": [
        {
          "output_type": "stream",
          "name": "stdout",
          "text": [
            "a + b es igual a 3\n"
          ]
        }
      ]
    },
    {
      "cell_type": "markdown",
      "source": [
        "Match y case\n",
        "\n",
        "Uso simialr a if/else pero la notación queda más limpia. Para casos que NO tengo muchos condicionales complejos."
      ],
      "metadata": {
        "id": "KbWBbuxav60J"
      }
    },
    {
      "cell_type": "code",
      "source": [
        "x = 10\n",
        "\n",
        "match x:\n",
        "  case 1:\n",
        "    print (\"x es igual a 1\")\n",
        "  case 5:\n",
        "    print (\"x es igual a 5\")\n",
        "  case _:\n",
        "    print (\"x no es ni 1, ni 5\") #no es.."
      ],
      "metadata": {
        "colab": {
          "base_uri": "https://localhost:8080/"
        },
        "id": "qOMTgmNJv5LM",
        "outputId": "8df239db-0ab4-4bb5-cb69-e12340c58432"
      },
      "execution_count": null,
      "outputs": [
        {
          "output_type": "stream",
          "name": "stdout",
          "text": [
            "x no es ni 1, ni 5, ni 10\n"
          ]
        }
      ]
    },
    {
      "cell_type": "markdown",
      "source": [
        "#📝Ejercicios parte 3:"
      ],
      "metadata": {
        "id": "muHta0yzwTw_"
      }
    },
    {
      "cell_type": "markdown",
      "source": [
        "👉 Parte 3 - Ejercicio de clase\n",
        "\n",
        "- Escribe un programa que solicitará al usuario que ingrese su `edad` y su `nombre`.\n",
        "- Verificará si el usuario tiene al menos 18 años y si su nombre comienza con la letra 'A' o 'a'. Si ambas condiciones se cumplen, el programa imprimirá un mensaje de acceso concedido; de lo contrario, imprimirá un mensaje de acceso denegado."
      ],
      "metadata": {
        "id": "0z01P0E6wWjy"
      }
    },
    {
      "cell_type": "code",
      "source": [
        "edad = int(input(\"Ingrese su edad: \"))\n",
        "nombre = input(\"Ingrese su nombre: \")\n",
        "\n",
        "if edad >= 18 and (nombre[0] == \"A\" or nombre[0] == \"a\"):\n",
        "  print(\"Acceso concedido\")\n",
        "else:\n",
        "  print(\"Acceso denegado\")"
      ],
      "metadata": {
        "colab": {
          "base_uri": "https://localhost:8080/"
        },
        "id": "4QeAuRNzwYV9",
        "outputId": "f83d5762-4554-4cc9-e8e7-22db709e3776"
      },
      "execution_count": null,
      "outputs": [
        {
          "output_type": "stream",
          "name": "stdout",
          "text": [
            "Ingrese su edad: 24\n",
            "Ingrese su nombre: Alejito\n",
            "Acceso concedido\n"
          ]
        }
      ]
    },
    {
      "cell_type": "markdown",
      "source": [
        "Parte 3 - Ejercicio de tarea 1\n",
        "- Escribe un programa que solicite al usuario que ingrese dos números.\n",
        "- Luego, el programa debe calcular el resultado al cuadrado sumando el cuadrado de cada número. Si el resultado es mayor a 100, el programa debe imprimir \"Supera la superficie máxima\". En caso contrario, debe imprimir \"Superficie habilitada\".\n",
        "\n",
        "*Tip: Recuerda que cuando utilizas la función `input()` debes asegurarte que el valor a sumar es int/float casteando el dato ingresado con los métodos vistos*"
      ],
      "metadata": {
        "id": "T_mncLpywr0X"
      }
    },
    {
      "cell_type": "code",
      "source": [
        "num_1 = int(input(\"Ingrese un número: \"))\n",
        "num_2 = int(input(\"Ingrese otro número: \"))\n",
        "\n",
        "resultado = (num_1 ** 2) + (num_2 ** 2)\n",
        "\n",
        "if resultado > 100:\n",
        "  print(\"Supera la superficie máxima\")\n",
        "else:\n",
        "  print(\"Superficie habilitada\")"
      ],
      "metadata": {
        "colab": {
          "base_uri": "https://localhost:8080/"
        },
        "id": "ovhJwD5nwowc",
        "outputId": "dd797780-195d-486d-d403-22e9649eb592"
      },
      "execution_count": null,
      "outputs": [
        {
          "output_type": "stream",
          "name": "stdout",
          "text": [
            "Ingrese un número: 5\n",
            "Ingrese otro número: 11\n",
            "Supera la superficie máxima\n"
          ]
        }
      ]
    },
    {
      "cell_type": "code",
      "source": [],
      "metadata": {
        "id": "-Emf6GtEwz6M"
      },
      "execution_count": null,
      "outputs": []
    }
  ]
}