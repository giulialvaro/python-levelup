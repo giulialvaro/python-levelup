{
  "nbformat": 4,
  "nbformat_minor": 0,
  "metadata": {
    "colab": {
      "provenance": [],
      "toc_visible": true,
      "authorship_tag": "ABX9TyPd34bjjv1oyEmXImeapw/w",
      "include_colab_link": true
    },
    "kernelspec": {
      "name": "python3",
      "display_name": "Python 3"
    },
    "language_info": {
      "name": "python"
    }
  },
  "cells": [
    {
      "cell_type": "markdown",
      "metadata": {
        "id": "view-in-github",
        "colab_type": "text"
      },
      "source": [
        "<a href=\"https://colab.research.google.com/github/giulialvaro/python-levelup/blob/main/Clase_002.ipynb\" target=\"_parent\"><img src=\"https://colab.research.google.com/assets/colab-badge.svg\" alt=\"Open In Colab\"/></a>"
      ]
    },
    {
      "cell_type": "markdown",
      "source": [
        "#Condicionales"
      ],
      "metadata": {
        "id": "3xD2FhRBqTr0"
      }
    },
    {
      "cell_type": "markdown",
      "source": [
        " - Condicionales más usados: `if/else/elif`\n",
        " - Otros condicionales: `match/case`\n"
      ],
      "metadata": {
        "id": "gLdzpn0nqXuz"
      }
    },
    {
      "cell_type": "code",
      "source": [
        "#CONDICIONAL SIMPLE\n",
        "num_1 = 1\n",
        "num_2 = 20\n",
        "\n",
        "if num_1 < num_2:\n",
        "  print(\"El numero 1 es menor que el numero 2\")\n",
        "else:\n",
        "  print(\"El numero 1 no es menor que el numero 2\")"
      ],
      "metadata": {
        "colab": {
          "base_uri": "https://localhost:8080/"
        },
        "id": "j4y4nSNBqiL7",
        "outputId": "e80e991d-e091-4297-af68-1fa2debb06a4"
      },
      "execution_count": null,
      "outputs": [
        {
          "output_type": "stream",
          "name": "stdout",
          "text": [
            "El numero 1 es menor que el numero 2\n"
          ]
        }
      ]
    },
    {
      "cell_type": "code",
      "source": [
        "#CONDICIONES ANIDADAS (mismo tipo de datos)\n",
        "\n",
        "if num_1 < num_2 or num_1 == num_2:\n",
        "  print(\"El numero 1 es menor o igual que el numero 2\")\n",
        "elif num_1 == num_2:\n",
        "  print(\"El numero 1 es mayor que el numero 2\")"
      ],
      "metadata": {
        "colab": {
          "base_uri": "https://localhost:8080/"
        },
        "id": "dZojyK6tqsOd",
        "outputId": "3ac00444-0b61-4ad6-b551-564225e8e9a8"
      },
      "execution_count": null,
      "outputs": [
        {
          "output_type": "stream",
          "name": "stdout",
          "text": [
            "El numero 1 es menor o igual que el numero 2\n"
          ]
        }
      ]
    },
    {
      "cell_type": "code",
      "source": [
        "#CONDICIONES ANINDADAS (diferentes tipos de datos)\n",
        "edad = 24\n",
        "es_miembro = True\n",
        "\n",
        "if edad >= 18 and es_miembro: #o sea, si es true\n",
        "  print(\"Puede entrar\")\n",
        "else:\n",
        "  print(\"No puede entrar\")"
      ],
      "metadata": {
        "colab": {
          "base_uri": "https://localhost:8080/"
        },
        "id": "aZ7oGWLHq8fK",
        "outputId": "1a52c271-3440-498f-c5d8-1323707c662b"
      },
      "execution_count": null,
      "outputs": [
        {
          "output_type": "stream",
          "name": "stdout",
          "text": [
            "Puede entrar\n"
          ]
        }
      ]
    },
    {
      "cell_type": "markdown",
      "source": [
        "**ELIF**"
      ],
      "metadata": {
        "id": "25vioPtPrPmL"
      }
    },
    {
      "cell_type": "code",
      "source": [
        "puntuacion = 85\n",
        "\n",
        "#determinar la calificación\n",
        "if puntuacion >= 90:\n",
        "  calificación = \"A\"\n",
        "elif puntuacion >= 80:\n",
        "  calificación = \"B\"\n",
        "elif puntuacion >= 70:\n",
        "  calificación = \"C\"\n",
        "elif puntuacion >= 60:\n",
        "  calificación = \"D\"\n",
        "else:\n",
        "  calificación = \"F\"\n",
        "\n",
        "print (f\"La calificación es: {calificación}\")"
      ],
      "metadata": {
        "colab": {
          "base_uri": "https://localhost:8080/"
        },
        "id": "c4WJXrjTrSNi",
        "outputId": "5a227e93-24c7-4a59-ae89-b8a184bee36d"
      },
      "execution_count": null,
      "outputs": [
        {
          "output_type": "stream",
          "name": "stdout",
          "text": [
            "La calificación es: B\n"
          ]
        }
      ]
    },
    {
      "cell_type": "markdown",
      "source": [
        "Usamos `input()` para recibir el dato del usuario.\n",
        "\n",
        "REMINDER: el dato es `string` por default y debe ser casteado a `int`"
      ],
      "metadata": {
        "id": "h2Tum53krwG3"
      }
    },
    {
      "cell_type": "code",
      "source": [
        "#pedimos los datos\n",
        "edad = int(input(\"Ingrese su edad: \"))\n",
        "\n",
        "#en base a ese input, determinamos la categoria\n",
        "if edad >= 18:\n",
        "  print(\"Zona A\")\n",
        "elif edad >= 12:\n",
        "  print(\"Zona B\")\n",
        "else:\n",
        "  print(\"No puede entrar\")"
      ],
      "metadata": {
        "colab": {
          "base_uri": "https://localhost:8080/"
        },
        "id": "Q9qPanbNr-bB",
        "outputId": "a0e92b35-ace4-450b-8ff7-b202f2dbfc81"
      },
      "execution_count": null,
      "outputs": [
        {
          "output_type": "stream",
          "name": "stdout",
          "text": [
            "Ingrese su edad: 48237\n",
            "Zona A\n"
          ]
        }
      ]
    },
    {
      "cell_type": "markdown",
      "source": [
        "Condicionales a base de distintos tipos de datos"
      ],
      "metadata": {
        "id": "q-bMDMP5sRbN"
      }
    },
    {
      "cell_type": "code",
      "source": [
        "#Datos\n",
        "club = input(\"Ingresa tu club: \")\n",
        "edad = int(input(\"Ingresa tu edad: \"))\n",
        "\n",
        "#Determinamos la categoria. misma edad, diferente club\n",
        "if edad <10 and club == \"Boca\":\n",
        "  print (\"Infantiles\")\n",
        "elif edad <10 and club == \"Independiente\":\n",
        "  print (\"Sub -10\")\n",
        "elif edad >=10:\n",
        "  print (\"Adulto\")\n",
        "else:\n",
        "  print (\"No tenemos ese club en nuetra base\")"
      ],
      "metadata": {
        "id": "Bd8gREHDsUfy"
      },
      "execution_count": null,
      "outputs": []
    },
    {
      "cell_type": "markdown",
      "source": [
        "Otros condicionales: `match/case`\n",
        "\n",
        "Cuando los condiconales a evaluar no son demasiado complejos. Otorga una sintaxis más legible y sencilla."
      ],
      "metadata": {
        "id": "SoM2tbp0tNMA"
      }
    },
    {
      "cell_type": "code",
      "source": [
        "x = 10\n",
        "match x:\n",
        "  case 1:\n",
        "    print(\"x es igual a 1\")\n",
        "  case 2:\n",
        "    print(\"x es igual a 2\")\n",
        "  case _:\n",
        "    print (\"x no es ni 1 ni 2\")"
      ],
      "metadata": {
        "colab": {
          "base_uri": "https://localhost:8080/"
        },
        "id": "k-g5-xCVtZ_g",
        "outputId": "62aab460-4b5c-4d37-aee1-896b5ed3954c"
      },
      "execution_count": null,
      "outputs": [
        {
          "output_type": "stream",
          "name": "stdout",
          "text": [
            "x no es ni 1 ni 2\n"
          ]
        }
      ]
    },
    {
      "cell_type": "markdown",
      "source": [
        "Más complejos:\n",
        " - El caracter `|` es la representación de `or`\n",
        " - El caracter `_` representa cualquier otro caso\n"
      ],
      "metadata": {
        "id": "V1FpMTl3toj5"
      }
    },
    {
      "cell_type": "code",
      "source": [
        "edad = int(input(\"Ingrese su edad: \"))\n",
        "\n",
        "match edad:\n",
        "  case 0 | 1 | 2 | 3 | 4 | 5:\n",
        "    print(\"Infante\")\n",
        "  case 6 | 7 | 8 | 9 | 10:\n",
        "    print(\"Niño\")\n",
        "  case 11 | 12 | 13 | 14 | 15 | 16 | 17 | 18:\n",
        "    print(\"Adolescente\")\n",
        "  case _:\n",
        "    print(\"Adulto\")"
      ],
      "metadata": {
        "id": "H4-oh5xKuRyJ"
      },
      "execution_count": null,
      "outputs": []
    },
    {
      "cell_type": "markdown",
      "source": [
        "#📝Ejercicios Parte 1"
      ],
      "metadata": {
        "id": "xfhLOpmaqUDS"
      }
    },
    {
      "cell_type": "markdown",
      "source": [
        "\n",
        "Escribe un programa en Python que solicite al usuario que ingrese un número.\n",
        "- Determinar si el número ingresado es positivo, negativo o cero, e imprimir el resultado correspondiente en pantalla.\n",
        "- Si es positivo multuplicar el número por 2\n",
        "- Si es negativo multuplicar el número por 3\n",
        "- Imprimir los resultados en pantalla"
      ],
      "metadata": {
        "id": "ulItfQNCuXX_"
      }
    },
    {
      "cell_type": "code",
      "source": [
        "num = int(input(\"Ingrese un número: \"))\n",
        "\n",
        "if num > 0:\n",
        "  resultado = num * 2\n",
        "  print(f\"El resultado es: {resultado}\")\n",
        "elif num < 0:\n",
        "  resultado = num * 3\n",
        "  print(f\"El resultado es: {resultado}\")\n",
        "else:\n",
        "  print(\"El número es cero\")"
      ],
      "metadata": {
        "id": "jV-vOJTduZDo"
      },
      "execution_count": null,
      "outputs": []
    },
    {
      "cell_type": "markdown",
      "source": [
        "#Listas"
      ],
      "metadata": {
        "id": "iUiP8VisqUFk"
      }
    },
    {
      "cell_type": "markdown",
      "source": [
        "Permiten almacenar objetos mediante un orden definido (son una collecion ordenada).\n",
        "\n",
        "- Permiten dupicados\n",
        "- Permiten distintos tipos de datos\n",
        "- Son mutables\n",
        "- Se usan cuando se requiere orden e indexacion"
      ],
      "metadata": {
        "id": "qdfz1D7kj0ft"
      }
    },
    {
      "cell_type": "code",
      "source": [
        "#LISTA VACIA\n",
        "lista_vacia = []\n",
        "print(lista_vacia)\n",
        "\n",
        "#HOMOGENA - mismo tipo de datos\n",
        "lista_homogenea = [1, 2, 3, 4, 5]\n",
        "print(lista_homogenea)\n",
        "\n",
        "#HETEROGENA - diversos tipos de datos\n",
        "lista_heterogenea = [1, \"Hola\", 3.14, True]\n",
        "print(lista_heterogenea)"
      ],
      "metadata": {
        "colab": {
          "base_uri": "https://localhost:8080/"
        },
        "id": "I8nQKcPekHCv",
        "outputId": "92ab3d66-5eb4-43a5-8587-ed4b845c2720"
      },
      "execution_count": null,
      "outputs": [
        {
          "output_type": "stream",
          "name": "stdout",
          "text": [
            "[]\n",
            "[1, 2, 3, 4, 5]\n",
            "[1, 'Hola', 3.14, True]\n"
          ]
        }
      ]
    },
    {
      "cell_type": "markdown",
      "source": [
        "Operaciones con listas\n",
        "\n",
        "1. Obtener un elemento"
      ],
      "metadata": {
        "id": "4qFFE_8ekUrx"
      }
    },
    {
      "cell_type": "code",
      "source": [
        "compras = ['Frutas','Verduras','Pan']\n",
        "print(compras[0])\n",
        "print(compras[1])"
      ],
      "metadata": {
        "colab": {
          "base_uri": "https://localhost:8080/"
        },
        "id": "VHE2gxI5kZml",
        "outputId": "79397509-60c9-4ad7-bd37-755942f517cb"
      },
      "execution_count": null,
      "outputs": [
        {
          "output_type": "stream",
          "name": "stdout",
          "text": [
            "Frutas\n",
            "Verduras\n"
          ]
        }
      ]
    },
    {
      "cell_type": "markdown",
      "source": [
        "2. Trocear una lista"
      ],
      "metadata": {
        "id": "KCan0LdZkl-w"
      }
    },
    {
      "cell_type": "code",
      "source": [
        "trozo1 = compras[1:] #elementos 0, 1\n",
        "print(trozo1)"
      ],
      "metadata": {
        "colab": {
          "base_uri": "https://localhost:8080/"
        },
        "id": "0gbbnLh2koKV",
        "outputId": "cf4541d2-5f30-4829-f36d-b7bb48fc119a"
      },
      "execution_count": null,
      "outputs": [
        {
          "output_type": "stream",
          "name": "stdout",
          "text": [
            "['Verduras', 'Pan']\n"
          ]
        }
      ]
    },
    {
      "cell_type": "markdown",
      "source": [
        "3. Obtener un rango de elementos"
      ],
      "metadata": {
        "id": "BzZUEgvZkwU4"
      }
    },
    {
      "cell_type": "code",
      "source": [
        "trozo2 = compras[1::2] #elemento 1\n",
        "print(trozo2)"
      ],
      "metadata": {
        "colab": {
          "base_uri": "https://localhost:8080/"
        },
        "id": "s2VcwtDLk0dl",
        "outputId": "b000a873-aa6e-41d0-87de-8594df67b15f"
      },
      "execution_count": null,
      "outputs": [
        {
          "output_type": "stream",
          "name": "stdout",
          "text": [
            "['Verduras']\n"
          ]
        }
      ]
    },
    {
      "cell_type": "markdown",
      "source": [
        "4. Invertir una lista"
      ],
      "metadata": {
        "id": "A3MdHC1mk9S9"
      }
    },
    {
      "cell_type": "code",
      "source": [
        "lista = ['Boca','River','Independiente']\n",
        "lista.reverse() #1\n",
        "lista_invertida = list(reversed(lista)) #2\n",
        "print(lista)\n",
        "print(lista_invertida)"
      ],
      "metadata": {
        "colab": {
          "base_uri": "https://localhost:8080/"
        },
        "id": "fToaf4WDlDN0",
        "outputId": "e4050854-f0c5-4abb-8af4-b65d963d4fb0"
      },
      "execution_count": null,
      "outputs": [
        {
          "output_type": "stream",
          "name": "stdout",
          "text": [
            "['Independiente', 'River', 'Boca']\n",
            "['Boca', 'River', 'Independiente']\n"
          ]
        }
      ]
    },
    {
      "cell_type": "markdown",
      "source": [
        "5. Anadir elementos `append()`"
      ],
      "metadata": {
        "id": "h23mNzr1lY_G"
      }
    },
    {
      "cell_type": "code",
      "source": [
        "lista3 = []\n",
        "lista3.append(\"Hola\")\n",
        "lista3.append(\"Mundo\")\n",
        "print(lista3)"
      ],
      "metadata": {
        "colab": {
          "base_uri": "https://localhost:8080/"
        },
        "id": "TmUt0PsSleHd",
        "outputId": "7ad19473-5f62-43d2-d521-834a144f7af0"
      },
      "execution_count": null,
      "outputs": [
        {
          "output_type": "stream",
          "name": "stdout",
          "text": [
            "['Hola', 'Mundo']\n"
          ]
        }
      ]
    },
    {
      "cell_type": "markdown",
      "source": [
        "6. Combinar listas"
      ],
      "metadata": {
        "id": "dNPoTQyBlpjv"
      }
    },
    {
      "cell_type": "code",
      "source": [
        "lista1 = ['Huevos', 'Calabaza', 'Verdura']\n",
        "lista2 = ['Carne', 'Pollo', 'Legumbres']\n",
        "\n",
        "# Conservando lista original: \"+\" o \"+=\"\n",
        "compras = lista1 + lista2\n",
        "print(compras)"
      ],
      "metadata": {
        "colab": {
          "base_uri": "https://localhost:8080/"
        },
        "id": "A-T_V8AklrQV",
        "outputId": "38681b52-e079-4b5d-a3e1-e55732471ed7"
      },
      "execution_count": null,
      "outputs": [
        {
          "output_type": "stream",
          "name": "stdout",
          "text": [
            "['Huevos', 'Calabaza', 'Verdura', 'Carne', 'Pollo', 'Legumbres']\n"
          ]
        }
      ]
    },
    {
      "cell_type": "markdown",
      "source": [
        "7. Bollar elementos `remove()`"
      ],
      "metadata": {
        "id": "5ppWCyT-luuG"
      }
    },
    {
      "cell_type": "code",
      "source": [
        "# Por el elemento: remove()\n",
        "lista = ['Huevos', 'Calabaza', 'Verdura']\n",
        "print(lista)\n",
        "lista.remove('Verdura')     # Si hay Duplicados: Solo borra la primer existencia.\n",
        "print(lista)"
      ],
      "metadata": {
        "colab": {
          "base_uri": "https://localhost:8080/"
        },
        "id": "bAph8e6ylwHw",
        "outputId": "8d3044e2-f389-463f-a91e-89b9e65585b6"
      },
      "execution_count": null,
      "outputs": [
        {
          "output_type": "stream",
          "name": "stdout",
          "text": [
            "['Huevos', 'Calabaza', 'Verdura']\n",
            "['Huevos', 'Calabaza']\n"
          ]
        }
      ]
    },
    {
      "cell_type": "markdown",
      "source": [
        "8. Pertenencia de elementos `is in`"
      ],
      "metadata": {
        "id": "IANWubRbl5Zg"
      }
    },
    {
      "cell_type": "code",
      "source": [
        "lista = ['Huevos', 'Calabaza', 'Verdura', 'Jamon', 'Arroz']\n",
        "pertenencia1 = 'Arroz' in lista\n",
        "pertenencia2 = 'Sal' in lista\n",
        "print(pertenencia1, pertenencia2)"
      ],
      "metadata": {
        "colab": {
          "base_uri": "https://localhost:8080/"
        },
        "id": "TYdu3vl5l-Jr",
        "outputId": "39637059-e4dd-4947-aa47-88cd2723b3f8"
      },
      "execution_count": null,
      "outputs": [
        {
          "output_type": "stream",
          "name": "stdout",
          "text": [
            "True False\n"
          ]
        }
      ]
    },
    {
      "cell_type": "markdown",
      "source": [
        "9. Ordenar una lista `sort()`"
      ],
      "metadata": {
        "id": "WAKUq-Xbuc3o"
      }
    },
    {
      "cell_type": "code",
      "source": [
        "lista = ['Huevos', 'Calabaza', 'Verdura', 'Jamon', 'Arroz', 'Verdura']\n",
        "ordenada = sorted(lista)\n",
        "print(ordenada)\n",
        "# ordenada = sorted(lista, revserse = True)  En sentido inverso"
      ],
      "metadata": {
        "colab": {
          "base_uri": "https://localhost:8080/"
        },
        "id": "ASNXhT4qui7o",
        "outputId": "30d91ec5-5496-4b72-a002-5ff39f2de5f7"
      },
      "execution_count": null,
      "outputs": [
        {
          "output_type": "stream",
          "name": "stdout",
          "text": [
            "['Arroz', 'Calabaza', 'Huevos', 'Jamon', 'Verdura', 'Verdura']\n"
          ]
        }
      ]
    },
    {
      "cell_type": "markdown",
      "source": [
        "10. Iterar `indice` y `elemento`: `enumerate`"
      ],
      "metadata": {
        "id": "NY5uZUUUuqW2"
      }
    },
    {
      "cell_type": "code",
      "source": [
        "lista = ['Huevos', 'Calabaza', 'Verdura', 'Jamon', 'Arroz', 'Verdura']\n",
        "for indice, elemento in enumerate(lista):\n",
        "    print(indice, elemento)"
      ],
      "metadata": {
        "colab": {
          "base_uri": "https://localhost:8080/"
        },
        "id": "u40FaqscuuL_",
        "outputId": "f5234d1a-377e-4374-ff55-72d004700fdb"
      },
      "execution_count": null,
      "outputs": [
        {
          "output_type": "stream",
          "name": "stdout",
          "text": [
            "0 Huevos\n",
            "1 Calabaza\n",
            "2 Verdura\n",
            "3 Jamon\n",
            "4 Arroz\n",
            "5 Verdura\n"
          ]
        }
      ]
    },
    {
      "cell_type": "markdown",
      "source": [
        "11. Copiar una lista `copy()`"
      ],
      "metadata": {
        "id": "UgQpXxw_u2CD"
      }
    },
    {
      "cell_type": "code",
      "source": [
        "listaA = ['Real Madrid', 'Barcelona','Atletico de Madrid']\n",
        "listaB = listaA.copy()   # Se crea una nueva lista\n",
        "print(listaB)"
      ],
      "metadata": {
        "colab": {
          "base_uri": "https://localhost:8080/"
        },
        "id": "tO5VnP63u5EQ",
        "outputId": "4b858bfa-2f3a-42e8-87da-d2a2ebfc9f04"
      },
      "execution_count": null,
      "outputs": [
        {
          "output_type": "stream",
          "name": "stdout",
          "text": [
            "['Real Madrid', 'Barcelona', 'Atletico de Madrid']\n"
          ]
        }
      ]
    },
    {
      "cell_type": "markdown",
      "source": [
        "#Sets"
      ],
      "metadata": {
        "id": "dWfPjAPqjv7V"
      }
    },
    {
      "cell_type": "markdown",
      "source": [
        "Serie de valores únicos **sin orden establecido**.  \n",
        "\n",
        "- Soportan diferentes tipos de datos\n",
        "- Soportan operaciones de Union, Intersección y diferencia.\n",
        "- Se eliminan automáticamente los duplicados\n",
        "- Uso: Cuando se necesita asegurar valores únicos y realizar operaciones de conjuntos.\n",
        "- Mutables"
      ],
      "metadata": {
        "id": "Y4mGOpkZvDTu"
      }
    },
    {
      "cell_type": "code",
      "source": [
        "#DEFINIR CONJUNTO\n",
        "set_vacio = {}\n",
        "set1 = {1, 2, 3, 4, 5}\n",
        "\n",
        "print(set_vacio)\n",
        "print(set1)"
      ],
      "metadata": {
        "colab": {
          "base_uri": "https://localhost:8080/"
        },
        "id": "N_BSXWpivIT_",
        "outputId": "8a9fb519-2700-4c90-c117-f4a3e3dba080"
      },
      "execution_count": null,
      "outputs": [
        {
          "output_type": "stream",
          "name": "stdout",
          "text": [
            "{}\n",
            "{1, 2, 3, 4, 5}\n"
          ]
        }
      ]
    },
    {
      "cell_type": "markdown",
      "source": [
        "1. Eleminar duplicados"
      ],
      "metadata": {
        "id": "MkLuUoStvSl5"
      }
    },
    {
      "cell_type": "code",
      "source": [
        "set1 = {1, 2, 3, 4, 5, 5, 5}\n",
        "print(set1)"
      ],
      "metadata": {
        "colab": {
          "base_uri": "https://localhost:8080/"
        },
        "id": "TwaZbTrHvUUC",
        "outputId": "8a9c3e99-6e96-4269-bf25-98c7256f12df"
      },
      "execution_count": null,
      "outputs": [
        {
          "output_type": "stream",
          "name": "stdout",
          "text": [
            "{1, 2, 3, 4, 5}\n"
          ]
        }
      ]
    },
    {
      "cell_type": "markdown",
      "source": [
        "2. Obetener elemento\n",
        "\n",
        "No se puede obtener un elemento así como hacemos en las `listas` ya que son una colección desordenada de elementos únicos.\n",
        "\n",
        "3. Anadir un elemento `add()`"
      ],
      "metadata": {
        "id": "OG4877lqvYZ8"
      }
    },
    {
      "cell_type": "code",
      "source": [
        "# Notar que se añaden de forma ordenada\n",
        "set = {1, 3, 4, 10}\n",
        "set.add(5)\n",
        "set.add(1.2)\n",
        "set.add(0.5)\n",
        "print(set)"
      ],
      "metadata": {
        "colab": {
          "base_uri": "https://localhost:8080/"
        },
        "id": "5VeqC6ZHvoRE",
        "outputId": "d15df3c4-ede6-4926-ebf8-6a1355c2b333"
      },
      "execution_count": null,
      "outputs": [
        {
          "output_type": "stream",
          "name": "stdout",
          "text": [
            "{0.5, 1, 1.2, 3, 4, 5, 10}\n"
          ]
        }
      ]
    },
    {
      "cell_type": "markdown",
      "source": [
        "4. Remover un elemento remove()"
      ],
      "metadata": {
        "id": "eKXTnTbbvu9a"
      }
    },
    {
      "cell_type": "code",
      "source": [
        "set = {1, 3, 4, 10}\n",
        "set.remove(10)\n",
        "print(set)"
      ],
      "metadata": {
        "colab": {
          "base_uri": "https://localhost:8080/"
        },
        "id": "URmW2CKIvxeu",
        "outputId": "1660698b-5bce-432f-a91f-ad961c33972e"
      },
      "execution_count": null,
      "outputs": [
        {
          "output_type": "stream",
          "name": "stdout",
          "text": [
            "{1, 3, 4}\n"
          ]
        }
      ]
    },
    {
      "cell_type": "markdown",
      "source": [
        "5. Pertenencia `in` o `not in`"
      ],
      "metadata": {
        "id": "XJKBzymNv0nJ"
      }
    },
    {
      "cell_type": "code",
      "source": [
        "set = {1, 3, 4, 10}\n",
        "print(1 in set)\n",
        "print(1 not in set)"
      ],
      "metadata": {
        "colab": {
          "base_uri": "https://localhost:8080/"
        },
        "id": "hY_63bpCv59C",
        "outputId": "63de3160-db0a-4f76-efd4-6e17ac7d0eeb"
      },
      "execution_count": null,
      "outputs": [
        {
          "output_type": "stream",
          "name": "stdout",
          "text": [
            "True\n",
            "False\n"
          ]
        }
      ]
    },
    {
      "cell_type": "markdown",
      "source": [
        "6. Interseccion de conjuntos `&` e `intersection()`"
      ],
      "metadata": {
        "id": "yYQmagMPv7S-"
      }
    },
    {
      "cell_type": "code",
      "source": [
        "set1 = {1, 2}\n",
        "set2 = {2, 3}\n",
        "\n",
        "# Metodo 1\n",
        "intersection1 = set1 & set2\n",
        "print(intersection1)\n",
        "\n",
        "# Metodo 1\n",
        "intersection2 = set1.intersection(set2)\n",
        "print(intersection2)"
      ],
      "metadata": {
        "colab": {
          "base_uri": "https://localhost:8080/"
        },
        "id": "ckJ6383WwB8I",
        "outputId": "ae2839f3-d604-44c0-b842-616312bc2cd7"
      },
      "execution_count": null,
      "outputs": [
        {
          "output_type": "stream",
          "name": "stdout",
          "text": [
            "{2}\n",
            "{2}\n"
          ]
        }
      ]
    },
    {
      "cell_type": "markdown",
      "source": [
        "7. Union de conjuntos `|` y `union()`"
      ],
      "metadata": {
        "id": "BQFHbCkKwKLR"
      }
    },
    {
      "cell_type": "code",
      "source": [
        "set1 = {1, 2}\n",
        "set2 = {2, 3}\n",
        "# Metodo 1\n",
        "union1 = set1|set2\n",
        "# Metodo 2\n",
        "union2 = set1.union(set2)\n",
        "print(union1)\n",
        "print(union2)"
      ],
      "metadata": {
        "colab": {
          "base_uri": "https://localhost:8080/"
        },
        "id": "nmtoiGxYwRgV",
        "outputId": "71e10d6e-0465-4a14-b62e-3406bfd30b3d"
      },
      "execution_count": null,
      "outputs": [
        {
          "output_type": "stream",
          "name": "stdout",
          "text": [
            "{1, 2, 3}\n",
            "{1, 2, 3}\n"
          ]
        }
      ]
    },
    {
      "cell_type": "markdown",
      "source": [
        "8. Diferencia simetrica"
      ],
      "metadata": {
        "id": "XcbfqkZ1wU0H"
      }
    },
    {
      "cell_type": "code",
      "source": [
        "set1 = {1, 2}\n",
        "set2 = {2, 3}\n",
        "dif1 = set1 ^ set2\n",
        "dif2 = set1.symmetric_difference(set2)\n",
        "print(dif1)\n",
        "print(dif2)"
      ],
      "metadata": {
        "colab": {
          "base_uri": "https://localhost:8080/"
        },
        "id": "bPIj6COOwJ44",
        "outputId": "841d0f22-be72-4095-8ee3-d9c7f7f62256"
      },
      "execution_count": null,
      "outputs": [
        {
          "output_type": "stream",
          "name": "stdout",
          "text": [
            "{1, 3}\n",
            "{1, 3}\n"
          ]
        }
      ]
    },
    {
      "cell_type": "markdown",
      "source": [
        "10. Diferencia no simetrica"
      ],
      "metadata": {
        "id": "MeJ_EpeGwdsJ"
      }
    },
    {
      "cell_type": "code",
      "source": [
        "set1 = {1, 2}\n",
        "set2 = {2, 3}\n",
        "dif1 = set1 - set2\n",
        "dif2 = set1.difference(set2)\n",
        "print(dif1)\n",
        "print(dif2)"
      ],
      "metadata": {
        "colab": {
          "base_uri": "https://localhost:8080/"
        },
        "id": "YAncd7QTwgiZ",
        "outputId": "298b6c98-266a-42f9-8415-b2fbff576ea1"
      },
      "execution_count": null,
      "outputs": [
        {
          "output_type": "stream",
          "name": "stdout",
          "text": [
            "{1}\n",
            "{1}\n"
          ]
        }
      ]
    },
    {
      "cell_type": "markdown",
      "source": [
        "#Matrices"
      ],
      "metadata": {
        "id": "-hvJAmGhjv9U"
      }
    },
    {
      "cell_type": "markdown",
      "source": [
        "Una matriz es una estructura de datos **bidimensional** que contiene elementos dispuestos en filas y columnas. Las matrices generalmente se representan utilizando **listas anidadas**. Una matriz es simplemente una colección bidimensional de elementos, donde cada elemento está organizado en filas y columnas."
      ],
      "metadata": {
        "id": "ztmHIFHFwmM4"
      }
    },
    {
      "cell_type": "code",
      "source": [
        "#DEFINIR UNA MATRIZ 2 x 3\n",
        "matriz = [\n",
        "    [1,2,3],\n",
        "    [4,5,6]\n",
        "]\n",
        "print(matriz)"
      ],
      "metadata": {
        "colab": {
          "base_uri": "https://localhost:8080/"
        },
        "id": "dZhfgT0lwsoB",
        "outputId": "e16603fe-1ed1-4083-ca90-7c2e349cac52"
      },
      "execution_count": null,
      "outputs": [
        {
          "output_type": "stream",
          "name": "stdout",
          "text": [
            "[[1, 2, 3], [4, 5, 6]]\n"
          ]
        }
      ]
    },
    {
      "cell_type": "markdown",
      "source": [
        "1. Obtener un elemento de una matriz"
      ],
      "metadata": {
        "id": "Taj9FZU6w2e5"
      }
    },
    {
      "cell_type": "code",
      "source": [
        "matriz = [\n",
        "    [1, 2, 3],\n",
        "    [4, 5, 6]\n",
        "]\n",
        "print(\"La 1er fila de mi matriz es \",matriz[0])\n",
        "print(\"El 3er elemento de la 1er fila es \",matriz[0][2])"
      ],
      "metadata": {
        "colab": {
          "base_uri": "https://localhost:8080/"
        },
        "id": "Q-EvHMqww53E",
        "outputId": "4a800709-f05e-4839-b696-86c96c459a2c"
      },
      "execution_count": null,
      "outputs": [
        {
          "output_type": "stream",
          "name": "stdout",
          "text": [
            "La 1er fila de mi matriz es  [1, 2, 3]\n",
            "El 3er elemento de la 1er fila es  3\n"
          ]
        }
      ]
    },
    {
      "cell_type": "code",
      "source": [
        "# Uniendo sus elementos mediante algún 'separador'\n",
        "lista = ['Huevos', 'Calabaza', 'Verdura', 'Jamon', 'Arroz', 'Verdura']\n",
        "string1 = ','.join(lista)\n",
        "string2 = '|'.join(lista)\n",
        "print(string1)\n",
        "print(string2)\n",
        "# Esta función es la opuesta a 'split()' en strings"
      ],
      "metadata": {
        "colab": {
          "base_uri": "https://localhost:8080/"
        },
        "id": "CUySlEFuxDa5",
        "outputId": "5e603cfe-223f-4ce6-900c-5ccec05000cd"
      },
      "execution_count": null,
      "outputs": [
        {
          "output_type": "stream",
          "name": "stdout",
          "text": [
            "Huevos,Calabaza,Verdura,Jamon,Arroz,Verdura\n",
            "Huevos|Calabaza|Verdura|Jamon|Arroz|Verdura\n"
          ]
        }
      ]
    },
    {
      "cell_type": "markdown",
      "source": [
        "#📝Ejercicios Parte 2"
      ],
      "metadata": {
        "id": "kgfi48jxjv_Q"
      }
    },
    {
      "cell_type": "markdown",
      "source": [
        "👉 Parte 2 - Ejercicio de clase\n",
        "\n",
        "Definir una lista de productos de un local de comida para obtener el maestro de produtos\n",
        "- Hamburguesa Moon\n",
        "- Mega panchos\n",
        "- Nuggets extra queso\n",
        "- Empanadas\n",
        "\n",
        "Se contrata un nuevo proveedor el cual adiciona 2 nuevos productos a nuestro maestro que antes no estaban:\n",
        "- Super pancho doble\n",
        "- Pizza individual\n",
        "\n",
        "De la misma forma, el proveedor de el artículo `empanadas` deja de producir en el pais.\n",
        "\n",
        "Definir una lista que contenga el maestro de productos inicial y realizarle las actualizaciones correspondientes imprimiendo el maestro inicial y el final.\n"
      ],
      "metadata": {
        "id": "xh-5U9BKxLFY"
      }
    },
    {
      "cell_type": "code",
      "source": [
        "#creacion de la lista\n",
        "productos = ['Hamburguesa Moon', 'Mega panchos', 'Nuggets extra queso', 'Empanadas']\n",
        "print(productos)\n",
        "\n",
        "#anadir dos productos\n",
        "productos.append('Super pancho doble')\n",
        "productos.append('Pizza individual')\n",
        "print(productos)\n",
        "\n",
        "#eliminar empanadas\n",
        "productos.remove('Empanadas')\n",
        "print(productos)"
      ],
      "metadata": {
        "colab": {
          "base_uri": "https://localhost:8080/"
        },
        "id": "TIxt3kiExNsQ",
        "outputId": "83c7a121-6669-49a1-bde9-1e8b27f11e7e"
      },
      "execution_count": null,
      "outputs": [
        {
          "output_type": "stream",
          "name": "stdout",
          "text": [
            "['Hamburguesa Moon', 'Mega panchos', 'Nuggets extra queso', 'Empanadas']\n",
            "['Hamburguesa Moon', 'Mega panchos', 'Nuggets extra queso', 'Empanadas', 'Super pancho doble', 'Pizza individual']\n",
            "['Hamburguesa Moon', 'Mega panchos', 'Nuggets extra queso', 'Super pancho doble', 'Pizza individual']\n"
          ]
        }
      ]
    },
    {
      "cell_type": "markdown",
      "source": [
        "🫴🏻 Parte 2 - Ejercicio de tarea 1\n",
        "\n",
        "Dada la siguientes `lista` en Python correspondiente a la nómina inicial de la selección juvenil de futbol mixto del Club MateAmargo:\n",
        "`['Juan', 'Micaela', 'Emilia', 'Cecilia', 'Juan Manuel', 'Valentina', 'Luciano']`\n",
        "- Recientemente se sumaron al equipo: \"Augusto\" y \"David\". Agregar dichos elementos a la lista inicial.\n",
        "- Además Juan tuvo que salir de la lista por estar fuera por lesión durante al menos 6 meses.\n",
        "- Sumar a la lista inicial concatenando la lista de suplentes: `['Julieta', 'Jose', 'Franco']`\n",
        "- Realizar una copia de 'back up' de la nomina y guardarlo en una nueva variable `lista_backup`"
      ],
      "metadata": {
        "id": "p1oJS9epxjwK"
      }
    },
    {
      "cell_type": "code",
      "source": [
        "lista = ['Juan', 'Micaela', 'Emilia', 'Cecilia', 'Juan Manuel', 'Valentina', 'Luciano']\n",
        "lista.append('Augusto')\n",
        "lista.append('David')\n",
        "lista.remove('Juan')\n",
        "lista.extend(['Julieta', 'Jose', 'Franco'])\n",
        "lista_backup = lista.copy()\n",
        "print(lista)\n",
        "print(lista_backup)"
      ],
      "metadata": {
        "colab": {
          "base_uri": "https://localhost:8080/"
        },
        "id": "zngHhpM9xmdG",
        "outputId": "eabd04a7-53fe-4d33-ce2f-5594c3ac4dff"
      },
      "execution_count": null,
      "outputs": [
        {
          "output_type": "stream",
          "name": "stdout",
          "text": [
            "['Micaela', 'Emilia', 'Cecilia', 'Juan Manuel', 'Valentina', 'Luciano', 'Augusto', 'David', 'Julieta', 'Jose', 'Franco']\n",
            "['Micaela', 'Emilia', 'Cecilia', 'Juan Manuel', 'Valentina', 'Luciano', 'Augusto', 'David', 'Julieta', 'Jose', 'Franco']\n"
          ]
        }
      ]
    },
    {
      "cell_type": "markdown",
      "source": [
        "🫴🏻 Parte 2 - Ejercicio de tarea 2\n",
        "\n",
        "Dados los siguientes conjuntos:\n",
        "-  `c1 = {1, 2, 'Juan', 'Maria', True, 5.55, 24.3}`\n",
        "-  `c2 = {1, 10, 'Diego', 'Karina', False, True, 33.3}`\n",
        "\n",
        "Obtener la `interseccion` y la `union` de los conjuntos e imprimir en pantalla el resultado.\n"
      ],
      "metadata": {
        "id": "F6kC9QLNx3A7"
      }
    },
    {
      "cell_type": "code",
      "source": [
        "c1 = {1, 2, 'Juan', 'Maria', True, 5.55, 24.3}\n",
        "c2 = {1, 10, 'Diego', 'Karina', False, True, 33.3}\n",
        "\n",
        "interseccion  = c1.intersection(c2)\n",
        "\n",
        "union = c1.union(c2)\n",
        "\n",
        "print(interseccion)\n",
        "print(union)"
      ],
      "metadata": {
        "colab": {
          "base_uri": "https://localhost:8080/"
        },
        "id": "FYLmxhOsx9JL",
        "outputId": "61b3ae77-c8ab-4b4f-cfb7-8cdf93ea943e"
      },
      "execution_count": null,
      "outputs": [
        {
          "output_type": "stream",
          "name": "stdout",
          "text": [
            "{1}\n",
            "{'Diego', 1, 2, False, 33.3, 5.55, 10, 'Juan', 'Karina', 24.3, 'Maria'}\n"
          ]
        }
      ]
    },
    {
      "cell_type": "markdown",
      "source": [
        "#Bucles"
      ],
      "metadata": {
        "id": "sxz4BUoOjwB0"
      }
    },
    {
      "cell_type": "markdown",
      "source": [
        "Bucle `for`\n",
        "\n",
        "\n",
        "Recordatorio: Sólo podemos recorrer objetos `iterables`:\n",
        "- Strings\n",
        "- Listas\n",
        "- Tuplas\n",
        "- Set (Conjuntos)\n",
        "- Diccionarios\n",
        "\n",
        "Nota: Listas, Tuplas, Set y Diccionarios serán profundizados más adelante."
      ],
      "metadata": {
        "id": "KNNexNoUyM8I"
      }
    },
    {
      "cell_type": "code",
      "source": [
        "#BUCLE FOR SIMPLE\n",
        "rango = range(0,10)\n",
        "\n",
        "for numero in rango:\n",
        "  print(numero)"
      ],
      "metadata": {
        "colab": {
          "base_uri": "https://localhost:8080/"
        },
        "id": "9J_ZtxdEyaHj",
        "outputId": "ed73c078-9e63-41db-95b5-0d55466885aa"
      },
      "execution_count": null,
      "outputs": [
        {
          "output_type": "stream",
          "name": "stdout",
          "text": [
            "0\n",
            "1\n",
            "2\n",
            "3\n",
            "4\n",
            "5\n",
            "6\n",
            "7\n",
            "8\n",
            "9\n"
          ]
        }
      ]
    },
    {
      "cell_type": "markdown",
      "source": [
        "Uso del `break`"
      ],
      "metadata": {
        "id": "bZ00yeaGys8W"
      }
    },
    {
      "cell_type": "code",
      "source": [
        "rango = range (0,50)\n",
        "\n",
        "for numero in rango:\n",
        "  if numero == 7:\n",
        "    break\n",
        "  print(numero)"
      ],
      "metadata": {
        "colab": {
          "base_uri": "https://localhost:8080/"
        },
        "id": "2Il4feEuyuhh",
        "outputId": "c9756a4e-c032-4e08-b807-c9707c1465e4"
      },
      "execution_count": null,
      "outputs": [
        {
          "output_type": "stream",
          "name": "stdout",
          "text": [
            "0\n",
            "1\n",
            "2\n",
            "3\n",
            "4\n",
            "5\n",
            "6\n"
          ]
        }
      ]
    },
    {
      "cell_type": "markdown",
      "source": [
        "Uso de `continue`"
      ],
      "metadata": {
        "id": "8Sl8rSIwy2ry"
      }
    },
    {
      "cell_type": "code",
      "source": [
        "#SIN CONTINUE\n",
        "for i in range(5):\n",
        "  if i % 2 == 0:\n",
        "    print(f'{i} es par')\n",
        "  print('Esta linea se ejecuta siempre') # Sin el continue: La ejecución llega hasta esta línea."
      ],
      "metadata": {
        "colab": {
          "base_uri": "https://localhost:8080/"
        },
        "id": "PgWTqHc-y8Su",
        "outputId": "1cb90023-c07e-4469-e2a0-3e9da6b598fb"
      },
      "execution_count": null,
      "outputs": [
        {
          "output_type": "stream",
          "name": "stdout",
          "text": [
            "0 es par\n",
            "Esta linea se ejecuta siempre\n",
            "Esta linea se ejecuta siempre\n",
            "2 es par\n",
            "Esta linea se ejecuta siempre\n",
            "Esta linea se ejecuta siempre\n",
            "4 es par\n",
            "Esta linea se ejecuta siempre\n"
          ]
        }
      ]
    },
    {
      "cell_type": "code",
      "source": [
        "#CON CONTINUE\n",
        "for i in range(5):\n",
        "    if i % 2 == 0:\n",
        "        print(f\"{i} es par\")\n",
        "        continue\n",
        "    print(\"Esta línea se ejecuta solo si i no es par\") # Con el continue: La ejecución NO llega hasta esta línea (continúa la siguiente vuelta)."
      ],
      "metadata": {
        "colab": {
          "base_uri": "https://localhost:8080/"
        },
        "id": "8-yG1IKCzPPn",
        "outputId": "bad0dd05-dc28-402a-bc5d-3d80f48ac452"
      },
      "execution_count": null,
      "outputs": [
        {
          "output_type": "stream",
          "name": "stdout",
          "text": [
            "0 es par\n",
            "Esta línea se ejecuta solo si i no es par\n",
            "2 es par\n",
            "Esta línea se ejecuta solo si i no es par\n",
            "4 es par\n"
          ]
        }
      ]
    },
    {
      "cell_type": "markdown",
      "source": [
        "Iterando una lista"
      ],
      "metadata": {
        "id": "oNMtyL7rzYQ7"
      }
    },
    {
      "cell_type": "code",
      "source": [
        "# Lista de productos del supermercado\n",
        "productos = [\"Leche\", \"Huevos\", \"Pan\", \"Manzanas\", \"Arroz\", \"Pasta\"]\n",
        "\n",
        "# Iterar sobre la lista de productos e imprimir cada uno en pantalla\n",
        "print(\"Lista de compras:\")\n",
        "for producto in productos:\n",
        "    print(producto)"
      ],
      "metadata": {
        "colab": {
          "base_uri": "https://localhost:8080/"
        },
        "id": "OVI8xcItzbap",
        "outputId": "03f24ab0-22ec-4922-b9b2-175aa35843c1"
      },
      "execution_count": null,
      "outputs": [
        {
          "output_type": "stream",
          "name": "stdout",
          "text": [
            "Lista de compras:\n",
            "Leche\n",
            "Huevos\n",
            "Pan\n",
            "Manzanas\n",
            "Arroz\n",
            "Pasta\n"
          ]
        }
      ]
    },
    {
      "cell_type": "markdown",
      "source": [
        "For con condicionales"
      ],
      "metadata": {
        "id": "AJYfI8ZLzh0Y"
      }
    },
    {
      "cell_type": "code",
      "source": [
        "lista_nombres = [\"Pedro\", \"Juan\", \"Diego\", \"Luis\", \"Miguel\", \"Carlos\", \"Matias\"]\n",
        "\n",
        "for nombre in lista_nombres:\n",
        "  if nombre == \"Pedro\" or nombre == \"Juan\":\n",
        "    print(f\"Evaluacion 1 - {nombre} se encuentra en el Equipo A\")\n",
        "    continue\n",
        "  elif nombre == \"Diego\" or nombre == \"Luis\":\n",
        "    print(f\"Evaluacion 2 - {nombre} se encuentra en el Equipo B\")\n",
        "    continue\n",
        "  elif nombre == \"Miguel\" or nombre == \"Carlos\":\n",
        "    print(f\"Evaluacion 3 - {nombre} se encuentra en el Equipo C\")\n",
        "    continue\n",
        "  print('No encontrado')\n",
        "  # Comentar el `continue` de cada condición y descomentar acá para analizar el comportamiento."
      ],
      "metadata": {
        "colab": {
          "base_uri": "https://localhost:8080/"
        },
        "id": "eVjIpCfrzj5-",
        "outputId": "6edf8407-d7cc-4c02-d7af-1c829d915015"
      },
      "execution_count": null,
      "outputs": [
        {
          "output_type": "stream",
          "name": "stdout",
          "text": [
            "Evaluacion 1 - Pedro se encuentra en el Equipo A\n",
            "Evaluacion 1 - Juan se encuentra en el Equipo A\n",
            "Evaluacion 2 - Diego se encuentra en el Equipo B\n",
            "Evaluacion 2 - Luis se encuentra en el Equipo B\n",
            "Evaluacion 3 - Miguel se encuentra en el Equipo C\n",
            "Evaluacion 3 - Carlos se encuentra en el Equipo C\n",
            "No encontrado\n"
          ]
        }
      ]
    },
    {
      "cell_type": "markdown",
      "source": [
        "# New Section"
      ],
      "metadata": {
        "id": "MQ6TVZGlqUHa"
      }
    },
    {
      "cell_type": "markdown",
      "source": [],
      "metadata": {
        "id": "XF5v1RNjuTqZ"
      }
    }
  ]
}