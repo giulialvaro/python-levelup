{
  "nbformat": 4,
  "nbformat_minor": 0,
  "metadata": {
    "colab": {
      "provenance": [],
      "authorship_tag": "ABX9TyNlwsJlH0eCG7KOnoHV/yLS",
      "include_colab_link": true
    },
    "kernelspec": {
      "name": "python3",
      "display_name": "Python 3"
    },
    "language_info": {
      "name": "python"
    }
  },
  "cells": [
    {
      "cell_type": "markdown",
      "metadata": {
        "id": "view-in-github",
        "colab_type": "text"
      },
      "source": [
        "<a href=\"https://colab.research.google.com/github/giulialvaro/python-levelup/blob/main/Clase_003.ipynb\" target=\"_parent\"><img src=\"https://colab.research.google.com/assets/colab-badge.svg\" alt=\"Open In Colab\"/></a>"
      ]
    },
    {
      "cell_type": "markdown",
      "source": [
        "#✨Diccionarios"
      ],
      "metadata": {
        "id": "Km6D_pYUtFUx"
      }
    },
    {
      "cell_type": "markdown",
      "source": [
        "Estructura que almacena una palabra clave `key` y el valor `value`.\n",
        "\n",
        "- Las claves son únicas pueden ser **cualq tipo de dato**.\n",
        "- **Indexación** por rango numérico\n",
        "- Son **mutables**\n",
        "\n"
      ],
      "metadata": {
        "id": "6EY1N971uecU"
      }
    },
    {
      "cell_type": "code",
      "source": [
        "#DICCIONARIO VACÍO\n",
        "dic_vacio = {}\n",
        "print(dic_vacio)\n",
        "\n",
        "#DICCIONARIO CON VALORES\n",
        "mi_diccionario = {\n",
        "    \"nombre\": \"Juan\",     #Clave 1: valor 1\n",
        "    \"apellido\": \"Perez\",  #Clave 2: valor 2\n",
        "    \"edad\": 25            #Clave 3: valor 3\n",
        "}\n",
        "print(mi_diccionario)\n",
        "\n",
        "mi_diccionario2 = {\n",
        "    1: \"Python\",\n",
        "    2: \"JavaScript\",\n",
        "    3: \"C#\"\n",
        "}\n",
        "print(mi_diccionario2)"
      ],
      "metadata": {
        "id": "TEoA5TSoueNX",
        "colab": {
          "base_uri": "https://localhost:8080/"
        },
        "outputId": "93ed0f35-12a0-4bcf-e052-e7a9e901c4bf"
      },
      "execution_count": null,
      "outputs": [
        {
          "output_type": "stream",
          "name": "stdout",
          "text": [
            "{}\n",
            "{'nombre': 'Juan', 'apellido': 'Perez', 'edad': 25}\n",
            "{1: 'Python', 2: 'JavaScript', 3: 'C#'}\n"
          ]
        }
      ]
    },
    {
      "cell_type": "markdown",
      "source": [
        "Uso de los diccionarios\n",
        "\n",
        "- Almacenar información relacionada (por ej, info de contacto)\n",
        "- Mapear información\n",
        "- Configuración\n"
      ],
      "metadata": {
        "id": "4RRJ-wMZvv8m"
      }
    },
    {
      "cell_type": "markdown",
      "source": [
        "**Métodos para diccionarios**\n",
        "\n",
        "1. Obtener un elemento. Notación [] y método get()"
      ],
      "metadata": {
        "id": "blKMLxRW3LM3"
      }
    },
    {
      "cell_type": "code",
      "source": [
        "#NOTACIÓN DE []\n",
        "dict = {\n",
        "    'nombre': 'Juan',\n",
        "    'apellido': 'Perez',\n",
        "    'edad': 24,\n",
        "    'Programador': True\n",
        "}\n",
        "nombre = dict['nombre']\n",
        "print(f'El valor de la clave \"nombre\" de mi diccionario es: {nombre}')\n",
        "\n",
        "#MÉTODO get()\n",
        "print('El nombre de él es:', dict.get('nombre'))"
      ],
      "metadata": {
        "colab": {
          "base_uri": "https://localhost:8080/"
        },
        "id": "5RmXQ3Io3VlI",
        "outputId": "ea4430df-8865-4ed1-9820-bc751c1f238c"
      },
      "execution_count": null,
      "outputs": [
        {
          "output_type": "stream",
          "name": "stdout",
          "text": [
            "El valor de la clave \"nombre\" de mi diccionario es: Juan\n",
            "El nombre de él es: Juan\n"
          ]
        }
      ]
    },
    {
      "cell_type": "markdown",
      "source": [
        "2. Añadir o modificar un elemento. Notación []"
      ],
      "metadata": {
        "id": "5fmAqMMl7bB0"
      }
    },
    {
      "cell_type": "code",
      "source": [
        "#si existe, lo reemplaza\n",
        "dict ['nombre'] = 'Maria'\n",
        "print(dict)\n",
        "\n",
        "#si no existe, lo agrega\n",
        "dict['sexo'] = 'F'\n",
        "print(dict)"
      ],
      "metadata": {
        "colab": {
          "base_uri": "https://localhost:8080/"
        },
        "id": "YJdo84IW7eok",
        "outputId": "91152f2c-c25a-4b56-a6c7-95a3c150c047"
      },
      "execution_count": null,
      "outputs": [
        {
          "output_type": "stream",
          "name": "stdout",
          "text": [
            "{'nombre': 'Maria', 'apellido': 'Perez', 'edad': 24, 'Programador': True}\n",
            "{'nombre': 'Maria', 'apellido': 'Perez', 'edad': 24, 'Programador': True, 'sexo': 'F'}\n"
          ]
        }
      ]
    },
    {
      "cell_type": "markdown",
      "source": [
        "3. Pertenencia de una clave: `in` & `not in`"
      ],
      "metadata": {
        "id": "XIceSJKX7usi"
      }
    },
    {
      "cell_type": "code",
      "source": [
        "dict = {\n",
        "    'nombre': 'Alejo',\n",
        "    'edad': 7,\n",
        "    'zapatilla fav': 'Dunk'\n",
        "}\n",
        "\n",
        "print('nombre' not in dict) #false pq si está\n",
        "print('edad' in dict) #true pq sí está\n",
        "print('zapatilla fav' in dict)"
      ],
      "metadata": {
        "colab": {
          "base_uri": "https://localhost:8080/"
        },
        "id": "YLmF143c70Pw",
        "outputId": "f23d8a71-3574-4a61-8a04-7d3fa8924b82"
      },
      "execution_count": null,
      "outputs": [
        {
          "output_type": "stream",
          "name": "stdout",
          "text": [
            "False\n",
            "True\n",
            "True\n"
          ]
        }
      ]
    },
    {
      "cell_type": "markdown",
      "source": [
        "4. Obtener todas las claves/valores/pares\n",
        "\n",
        "- Método `keys()` para claves\n",
        "- Método `values()` para valores\n",
        "- Método `items()` para pares"
      ],
      "metadata": {
        "id": "tk8AjC2n8Oq6"
      }
    },
    {
      "cell_type": "code",
      "source": [
        "dic_nuevo ={\n",
        "    'nombre': 'Juan',\n",
        "    'apellido': 'Perez'\n",
        "}\n",
        "\n",
        "#Todas las claves\n",
        "print(dic_nuevo.keys())\n",
        "\n",
        "#Todos los valores\n",
        "print(dic_nuevo.values())\n",
        "\n",
        "#Todos los pares\n",
        "print(dic_nuevo.items())"
      ],
      "metadata": {
        "colab": {
          "base_uri": "https://localhost:8080/"
        },
        "id": "PxEbn3MT8h6N",
        "outputId": "390f93fd-9993-4708-fea7-792d24f76ab1"
      },
      "execution_count": null,
      "outputs": [
        {
          "output_type": "stream",
          "name": "stdout",
          "text": [
            "dict_keys(['nombre', 'apellido'])\n",
            "dict_values(['Juan', 'Perez'])\n",
            "dict_items([('nombre', 'Juan'), ('apellido', 'Perez')])\n"
          ]
        }
      ]
    },
    {
      "cell_type": "markdown",
      "source": [
        "5. Longitud del diccionario. `len()`"
      ],
      "metadata": {
        "id": "kX53BCp78x3i"
      }
    },
    {
      "cell_type": "code",
      "source": [
        "print(f'La longitud del diccionario es: {len(dict)}')"
      ],
      "metadata": {
        "colab": {
          "base_uri": "https://localhost:8080/"
        },
        "id": "gUZyN9yl81d2",
        "outputId": "ba8a3ae3-fa5f-4079-8fe2-8d200adebc01"
      },
      "execution_count": null,
      "outputs": [
        {
          "output_type": "stream",
          "name": "stdout",
          "text": [
            "La longitud del diccionario es: 3\n"
          ]
        }
      ]
    },
    {
      "cell_type": "markdown",
      "source": [
        "6. Combinar diccionarios: `update()`"
      ],
      "metadata": {
        "id": "Tol7yVJhOVqI"
      }
    },
    {
      "cell_type": "code",
      "source": [
        "dic1 = {\n",
        "    'nombre': 'Juan',\n",
        "    'apellido': 'Perez'\n",
        "}\n",
        "dic2 = {\n",
        "    'edad': 24\n",
        "}\n",
        "\n",
        "dic1.update(dic2)   #al dic 1 añadirle el dic2 (tamb reemplaza)\n",
        "print(dic1)"
      ],
      "metadata": {
        "colab": {
          "base_uri": "https://localhost:8080/"
        },
        "id": "alxs-oa-ObiV",
        "outputId": "994f77fc-f664-489b-9f9f-4d18db3e10ed"
      },
      "execution_count": 1,
      "outputs": [
        {
          "output_type": "stream",
          "name": "stdout",
          "text": [
            "{'nombre': 'Juan', 'apellido': 'Perez', 'edad': 24}\n"
          ]
        }
      ]
    },
    {
      "cell_type": "markdown",
      "source": [
        "7. Borrar elementos: `del()`"
      ],
      "metadata": {
        "id": "3ss4iJj9Oxhp"
      }
    },
    {
      "cell_type": "code",
      "source": [
        "#Borrar UN elemento\n",
        "dic = {\n",
        "    'nombre': 'Juan',\n",
        "    'apellido': 'Perez'\n",
        "}\n",
        "del dic['nombre'] #del diccionario[clave]\n",
        "print(dic)\n",
        "\n",
        "#Borrar TODOS los elementos\n",
        "dic.clear() #diccionario.clear\n",
        "print(dic)"
      ],
      "metadata": {
        "colab": {
          "base_uri": "https://localhost:8080/"
        },
        "id": "ycKZh-yXOmhJ",
        "outputId": "d8b96f8d-b2d1-4894-9bd6-c21e6882af10"
      },
      "execution_count": 2,
      "outputs": [
        {
          "output_type": "stream",
          "name": "stdout",
          "text": [
            "{'apellido': 'Perez'}\n",
            "{}\n"
          ]
        }
      ]
    },
    {
      "cell_type": "markdown",
      "source": [
        "8. Extraer un elemento: `pop()`"
      ],
      "metadata": {
        "id": "Qz6cb_VrPM0K"
      }
    },
    {
      "cell_type": "code",
      "source": [
        "dic = {\n",
        "    'nombre': 'Juan',\n",
        "    'apellido': 'Perez'\n",
        "}\n",
        "\n",
        "nombre = dic.pop('nombre') #LO SACA DIRECTAMENTE\n",
        "print(nombre)\n",
        "print(dic)"
      ],
      "metadata": {
        "colab": {
          "base_uri": "https://localhost:8080/"
        },
        "id": "TQ4Phj8MPIPT",
        "outputId": "058f9ba6-1d41-4b97-b46e-770cc5f0f086"
      },
      "execution_count": 3,
      "outputs": [
        {
          "output_type": "stream",
          "name": "stdout",
          "text": [
            "Juan\n",
            "{'apellido': 'Perez'}\n"
          ]
        }
      ]
    },
    {
      "cell_type": "markdown",
      "source": [
        "9. Copiar un diccionario: `copy()`"
      ],
      "metadata": {
        "id": "Vqg1Tp5dPWaz"
      }
    },
    {
      "cell_type": "code",
      "source": [
        "dic1 = {\n",
        "    'nombre': 'Juan',\n",
        "    'apellido': 'Perez'\n",
        "}\n",
        "\n",
        "dic2 = dic1.copy()\n",
        "print(dic1)\n",
        "print(dic2)"
      ],
      "metadata": {
        "colab": {
          "base_uri": "https://localhost:8080/"
        },
        "id": "JjTNQvS_PZoi",
        "outputId": "123e00a6-5ca9-4e24-88a8-b47fa40f3800"
      },
      "execution_count": 4,
      "outputs": [
        {
          "output_type": "stream",
          "name": "stdout",
          "text": [
            "{'nombre': 'Juan', 'apellido': 'Perez'}\n",
            "{'nombre': 'Juan', 'apellido': 'Perez'}\n"
          ]
        }
      ]
    },
    {
      "cell_type": "markdown",
      "source": [
        "10. Iterar clave y valor en un bucle for: `enumerate()`"
      ],
      "metadata": {
        "id": "8uou9GcuPmdG"
      }
    },
    {
      "cell_type": "code",
      "source": [
        "dic1 = {\n",
        "    'nombre': 'Juan',\n",
        "    'apellido': 'Perez'\n",
        "}\n",
        "for posicion, clave in enumerate(dic1):\n",
        "  print(f'Clave {posicion}: {clave}')"
      ],
      "metadata": {
        "colab": {
          "base_uri": "https://localhost:8080/"
        },
        "id": "kqv_jmyiPrxb",
        "outputId": "46c815a7-4c08-4b4a-b7e5-5dad38e5bc8c"
      },
      "execution_count": 5,
      "outputs": [
        {
          "output_type": "stream",
          "name": "stdout",
          "text": [
            "Clave 0: nombre\n",
            "Clave 1: apellido\n"
          ]
        }
      ]
    },
    {
      "cell_type": "markdown",
      "source": [
        "#✨Tuplas"
      ],
      "metadata": {
        "id": "SL1Z8P-RtFY_"
      }
    },
    {
      "cell_type": "markdown",
      "source": [
        "Está formada por un número de valores separados por **comas**.\n",
        "\n",
        " - **Versátiles**: admiten distintos tipos de datos\n",
        " - Admiten **duplicados**\n",
        " - Son **inmutables**"
      ],
      "metadata": {
        "id": "3q7uvO1Cv8Wq"
      }
    },
    {
      "cell_type": "markdown",
      "source": [
        "Uso de las tuplas\n",
        "- Cuando una funcion necesita devolver múltiples valores\n",
        "- Pueden usarse para almacenar datos relacionados cuando el orden es importante"
      ],
      "metadata": {
        "id": "1CraiLy4w60p"
      }
    },
    {
      "cell_type": "markdown",
      "source": [],
      "metadata": {
        "id": "cK7AdZug9335"
      }
    },
    {
      "cell_type": "code",
      "source": [
        "#Definición con paréntesis\n",
        "tupla1 = (1, 4, 'Alejo', False, 3.14)\n",
        "print(tupla1)\n",
        "\n",
        "#Definición sin paréntesis\n",
        "tupla2 = (1, 'Python', [1, 3, 5], 3.14, {'Nombre': 'Guido'})\n",
        "print(tupla2)"
      ],
      "metadata": {
        "id": "33ZYuYaWwMIo",
        "colab": {
          "base_uri": "https://localhost:8080/"
        },
        "outputId": "9ea8ba97-ea61-42c7-dc63-fa7fa205e7c4"
      },
      "execution_count": null,
      "outputs": [
        {
          "output_type": "stream",
          "name": "stdout",
          "text": [
            "(1, 4, 'Alejo', False, 3.14)\n",
            "(1, 'Python', [1, 3, 5], 3.14, {'Nombre': 'Guido'})\n"
          ]
        }
      ]
    },
    {
      "cell_type": "markdown",
      "source": [
        "Métodos para tuplas\n",
        "\n",
        "- `reverse()`\n",
        "- `append()`\n",
        "- `extend()`\n",
        "- `clear()`\n",
        "- `sort()`\n",
        "\n",
        "1. Obtener un elemento."
      ],
      "metadata": {
        "id": "KRAfo6T9-QqL"
      }
    },
    {
      "cell_type": "code",
      "source": [
        "tupla = (1, 4, 'Alejo', False, 3.14)\n",
        "\n",
        "#posición\n",
        "print(f'Mi primer elemento es: {tupla[0]}')\n",
        "\n",
        "#indexación\n",
        "print(f'El índice de mi primer elemento es: {tupla.index(1)}')"
      ],
      "metadata": {
        "colab": {
          "base_uri": "https://localhost:8080/"
        },
        "id": "UKjcMNRJ-XsY",
        "outputId": "61c41345-c151-4ccf-b1ee-d6f5799282e7"
      },
      "execution_count": null,
      "outputs": [
        {
          "output_type": "stream",
          "name": "stdout",
          "text": [
            "Mi primer elemento es: 1\n",
            "El índice de mi primer elemento es: 0\n"
          ]
        }
      ]
    },
    {
      "cell_type": "markdown",
      "source": [
        "2. Contar elementos. `count()`"
      ],
      "metadata": {
        "id": "zysbcDIe-xN3"
      }
    },
    {
      "cell_type": "code",
      "source": [
        "print(tupla.count(2))\n",
        "\n",
        "tupla_hermosa = (1,2,34,5,21,2,1,2,5,6,7,2,2,12,3,1)\n",
        "print(tupla_hermosa.count(2))"
      ],
      "metadata": {
        "colab": {
          "base_uri": "https://localhost:8080/"
        },
        "id": "0PtMedia-0cb",
        "outputId": "b2595014-e3a1-4b8f-933e-b8df8ee5517b"
      },
      "execution_count": null,
      "outputs": [
        {
          "output_type": "stream",
          "name": "stdout",
          "text": [
            "0\n",
            "5\n"
          ]
        }
      ]
    },
    {
      "cell_type": "markdown",
      "source": [
        "3. Conversiones de tipos"
      ],
      "metadata": {
        "id": "h6mYzqiHSTwo"
      }
    },
    {
      "cell_type": "code",
      "source": [
        "string = '203'\n",
        "entero = 10\n",
        "flotante = 3.14\n",
        "booleano = True\n",
        "lista = [1,2,'Hola', 3.14]\n",
        "conjunto = {1,2,'Hola', 3.14}\n",
        "tupla = (1,2,'Hola', 3.14)\n",
        "diccionario = {'nombre':'Guido', 'apellido': 'Von Rossum'}\n",
        "\n",
        "#TRANSFORMACIÓN A STRING\n",
        "entero_string = str(entero)\n",
        "print(entero_string)\n",
        "print(type(entero_string))\n",
        "\n",
        "#TRANSFORMACIÓN A ENTERO\n",
        "string_entero = int(string)\n",
        "print(string_entero)\n",
        "print(type(string_entero))\n",
        "\n",
        "#CONVERSIÓN A FLOAT\n",
        "string = True\n",
        "string_float = float(string)\n",
        "print(string_float)\n",
        "print(type(string_float))\n",
        "\n",
        "#CONVERSIÓN A BOOLEAN\n",
        "entero = 0\n",
        "entero_bool = bool(entero)\n",
        "print(entero_bool)\n",
        "print(type(entero_bool))\n",
        "\n",
        "#CONVERSIÓN A LISTA\n",
        "tupla = (1,2,'Hola', 3.14)\n",
        "tupla_lista = list(tupla)\n",
        "print(tupla_lista)\n",
        "print(type(tupla_lista))\n",
        "\n",
        "#CONVERSIÓN A TUPLA\n",
        "lista = [1,2,'Hola', 3.14]\n",
        "lista_tupla = tuple(lista)\n",
        "print(lista_tupla)\n",
        "print(type(lista_tupla))\n",
        "\n",
        "#CONVERSIÓN A DICCIONARIO\n",
        "diccionario = {'nombre':'Guido', 'apellido': 'Von Rossum'}\n",
        "diccionario_tupla = tuple(diccionario)\n",
        "print(diccionario_tupla)\n",
        "print(type(diccionario_tupla))\n",
        "\n",
        "#CONVERSIÓN A MÉTODO\n",
        "tupla = (1,2,'Hola', 3.14)\n",
        "tupla_set = set(tupla)\n",
        "print(tupla_set)\n",
        "print(type(tupla_set))"
      ],
      "metadata": {
        "colab": {
          "base_uri": "https://localhost:8080/"
        },
        "id": "oX1oRAv3SO8T",
        "outputId": "03eb115b-2463-49fb-8442-aa6775814ae7"
      },
      "execution_count": 15,
      "outputs": [
        {
          "output_type": "stream",
          "name": "stdout",
          "text": [
            "10\n",
            "<class 'str'>\n",
            "203\n",
            "<class 'int'>\n",
            "1.0\n",
            "<class 'float'>\n",
            "False\n",
            "<class 'bool'>\n",
            "[1, 2, 'Hola', 3.14]\n",
            "<class 'list'>\n",
            "(1, 2, 'Hola', 3.14)\n",
            "<class 'tuple'>\n",
            "('nombre', 'apellido')\n",
            "<class 'tuple'>\n",
            "{1, 2, 3.14, 'Hola'}\n",
            "<class 'set'>\n"
          ]
        }
      ]
    },
    {
      "cell_type": "markdown",
      "source": [
        "#📝Ejercicios Parte 1 (1 Y 2 DE TAREA)"
      ],
      "metadata": {
        "id": "7D1oj3nFyHeB"
      }
    },
    {
      "cell_type": "markdown",
      "source": [
        "👉 Parte 1 - Ejercicio de clase\n",
        "\n",
        "Definir una `lista` de valores numéricos (`int`y`float`) y obtener la suma total de todos los elementos, los cuales se almacenarán en una nueva variable `suma`"
      ],
      "metadata": {
        "id": "n6CrZc-j_oXu"
      }
    },
    {
      "cell_type": "code",
      "source": [
        "lista = [2, 3, 4.5, 25, 1, 555, 32.1, 12]\n",
        "suma = 0    #sum()\n",
        "count = 0   #len()\n",
        "\n",
        "for numero in lista: # manera manual\n",
        "  suma += numero\n",
        "  count +=1\n",
        "\n",
        "print(suma)\n",
        "print(count)\n",
        "\n",
        "# con las funciones built-in sum() y len() es más corto\n",
        "suma2 = sum(lista)\n",
        "print(suma2)\n",
        "print(len(lista))"
      ],
      "metadata": {
        "colab": {
          "base_uri": "https://localhost:8080/"
        },
        "id": "lpTA1gjB_qfZ",
        "outputId": "1284fd78-87a7-460f-8de1-552e836960f4"
      },
      "execution_count": null,
      "outputs": [
        {
          "output_type": "stream",
          "name": "stdout",
          "text": [
            "634.6\n",
            "8\n",
            "634.6\n",
            "8\n"
          ]
        }
      ]
    },
    {
      "cell_type": "markdown",
      "source": [
        "🫴🏻 Parte 1 - Ejercicio de tarea 1\n",
        "\n",
        "Definir una `lista` de valores numéricos (`int`y`float`) y obtener la el valor máximo, el cual se almacenará en una nueva variable `maximo`."
      ],
      "metadata": {
        "id": "KAcCxotiAnn_"
      }
    },
    {
      "cell_type": "markdown",
      "source": [
        "🫴🏻 Parte 1 - Ejercicio de tarea 2\n",
        "\n",
        "Supongamos que tenemos una lista de estudiantes y sus calificaciones en diferentes materias, representada como un `diccionario` donde la clave es el `nombre` del estudiante y el `valor` es una `lista` de calificaciones.\n",
        "\n",
        "Se pide calcular el promedio de cada estudiante y determinar si aprobaron o reprobaron cada materia, considerando que la nota mínima para aprobar es 60.\n",
        "\n",
        "`calificaciones = {\n",
        "    'Juan': [80, 75, 90],\n",
        "    'María': [65, 70, 55],\n",
        "    'Pedro': [40, 60, 70]\n",
        "}`"
      ],
      "metadata": {
        "id": "H6f6FHaiAsHl"
      }
    },
    {
      "cell_type": "markdown",
      "source": [
        "#✨Funciones"
      ],
      "metadata": {
        "id": "qSa4gZtux_0L"
      }
    },
    {
      "cell_type": "markdown",
      "source": [
        "Estructura que nos permite agrupar código para no repetir y poder reutilizarlo.\n",
        "Está básicamente compuesta por:\n",
        "- `nombres` de la función\n",
        "- `parametros` a recibir (Luego el valor real pasado a la función se denomina `argumento`\n",
        "- `return`: Valor de retorno\n",
        "\n",
        "Para llamar a la función se utiliza el nombre seguido de paréntesis (agregándole los parámetros en caso de que reciba):\n",
        "\n",
        "`función(argumento1, argumento2)`\n",
        "\n",
        "Notas:\n",
        "- Prestar atención a la `indentación` para reflejar el código que está \"dentro\" de nuestra función.\n",
        "- Es importante documentar la acción realizada por la función al definirla.\n"
      ],
      "metadata": {
        "id": "4F49TbWiCpXK"
      }
    },
    {
      "cell_type": "markdown",
      "source": [
        "**1. Definir una función**\n",
        "\n",
        "- Función que no realiza acción\n",
        "- Función que recibe un parámetro\n",
        "- Función que recibe un parámetro y devuelve un resultado"
      ],
      "metadata": {
        "id": "Bw6AiqfICuxT"
      }
    },
    {
      "cell_type": "code",
      "source": [
        "#FUNCIÓN SIMPLE QUE NO HACE NADA\n",
        "def accion ():\n",
        "  pass    #no hace nada\n",
        "accion()\n",
        "\n",
        "#FUNCIÓN SIN RETORNO\n",
        "def say_hello():\n",
        "  print('Hello')\n",
        "say_hello()\n",
        "\n",
        "#FUNCIÓN CON RETORNO\n",
        "def suma(num1, num2):\n",
        "  return num1 + num2\n",
        "\n",
        "num1 = 10\n",
        "num2 = 20\n",
        "resultado = suma(num1, num2)\n",
        "print(resultado)"
      ],
      "metadata": {
        "colab": {
          "base_uri": "https://localhost:8080/"
        },
        "id": "DRqobt970HO5",
        "outputId": "f516aa99-457a-4414-c65d-e3733a3e7a87"
      },
      "execution_count": null,
      "outputs": [
        {
          "output_type": "stream",
          "name": "stdout",
          "text": [
            "Hello\n",
            "30\n"
          ]
        }
      ]
    },
    {
      "cell_type": "markdown",
      "source": [
        "2. Parámetros por defecto\n",
        "\n",
        "Si no se proporciona  un valor al argumentos en la llamada a la función, el parámetro correspondiente puede asignarse con un valor predefinido por defecto al definirla"
      ],
      "metadata": {
        "id": "D0EV8vN1UIsj"
      }
    },
    {
      "cell_type": "code",
      "source": [
        "def caract_persona(nombre, apellido, edad, comida_fav = 'Pizza'):\n",
        "  print(f'Hola {nombre} {apellido}, tienes {edad} años y tu comida favorita es {comida_fav}')\n",
        "\n",
        "\n",
        "#Llamo a la función y no lleno comida fav\n",
        "caract_persona('Juan', 'Perez', 24)\n",
        "\n",
        "#LLamo a la función y sí lleno comida fav\n",
        "caract_persona('Maria', 'Perez', 24, 'Hamburguesa')"
      ],
      "metadata": {
        "id": "d7nKVH5LyPCZ",
        "colab": {
          "base_uri": "https://localhost:8080/"
        },
        "outputId": "c2d19fa6-3a16-4764-f76e-2ec7b42dc40e"
      },
      "execution_count": 16,
      "outputs": [
        {
          "output_type": "stream",
          "name": "stdout",
          "text": [
            "Hola Juan Perez, tienes 24 años y tu comida favorita es Pizza\n",
            "Hola Maria Perez, tienes 24 años y tu comida favorita es Hamburguesa\n"
          ]
        }
      ]
    },
    {
      "cell_type": "markdown",
      "source": [
        "3. Sugerir el tipo de parámetro esperado\n",
        "\n",
        "  Se indica poniendo \":\" seguido del tipo de parámetro al definirlo en la función"
      ],
      "metadata": {
        "id": "pqmpg8GwUwEk"
      }
    },
    {
      "cell_type": "code",
      "source": [
        "def saludo(nombre:str, edad:int):\n",
        "  print(f'Hola {nombre}, tienes {edad} años')\n",
        "\n",
        "saludo('Juan', 24)"
      ],
      "metadata": {
        "colab": {
          "base_uri": "https://localhost:8080/"
        },
        "id": "pcdhJml5U7g5",
        "outputId": "cc34c9ac-dc7c-4195-fcb0-2832c8e99767"
      },
      "execution_count": 18,
      "outputs": [
        {
          "output_type": "stream",
          "name": "stdout",
          "text": [
            "Hola Juan, tienes fff años\n"
          ]
        }
      ]
    },
    {
      "cell_type": "markdown",
      "source": [
        "4. Argumentos de una función\n",
        "\n",
        "  * Argumentos posicionales: se copian en sus correspondientes parámentros en orden (durante el llamado, no en la definición)\n",
        "\n",
        "\n",
        "\n",
        "\n"
      ],
      "metadata": {
        "id": "2JwlzR6zVYLs"
      }
    },
    {
      "cell_type": "code",
      "source": [
        "def armar_pc(proveedor, nucleos, frecuencia):\n",
        "  #quiero que retorne un diccionario con las características\n",
        "  dic = {\n",
        "      'proveedor': proveedor,\n",
        "      'nucleos': nucleos,\n",
        "      'frecuencia': frecuencia\n",
        "  }\n",
        "  return dic\n",
        "\n",
        "#llamar a la función\n",
        "resultado = armar_pc(\n",
        "    'Intel',\n",
        "    4,\n",
        "    '800MHz'\n",
        ")\n",
        "\n",
        "print(f'Resultado de llamada a mi función \"armar_pc\" pasando parametros posicionales: \\n{resultado}')"
      ],
      "metadata": {
        "colab": {
          "base_uri": "https://localhost:8080/"
        },
        "id": "XRGr3bH2WYSk",
        "outputId": "8ddd2505-f9da-4b5f-a14d-25831ffb2f10"
      },
      "execution_count": 19,
      "outputs": [
        {
          "output_type": "stream",
          "name": "stdout",
          "text": [
            "Resultado de llamada a mi función \"armar_pc\" pasando parametros posicionales: \n",
            "{'proveedor': 'Intel', 'nucleos': 4, 'frecuencia': '800MHz'}\n"
          ]
        }
      ]
    },
    {
      "cell_type": "markdown",
      "source": [
        "  * Argumentos nominales: se asignan por nombre a cada parámetro (no impactan la definición)\n",
        "\n",
        "    "
      ],
      "metadata": {
        "id": "TCS7ByszXNUq"
      }
    },
    {
      "cell_type": "code",
      "source": [],
      "metadata": {
        "id": "NBV6ihuqXjQF"
      },
      "execution_count": null,
      "outputs": []
    },
    {
      "cell_type": "markdown",
      "source": [
        "# 📝Ejercicios Parte 2"
      ],
      "metadata": {
        "id": "dKIB3R5ttFbV"
      }
    }
  ]
}